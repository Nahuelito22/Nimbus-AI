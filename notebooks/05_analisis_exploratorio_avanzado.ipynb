{
 "cells": [
  {
   "cell_type": "markdown",
   "id": "d657d11a-6df2-43d6-a8a2-1616d7626bb2",
   "metadata": {},
   "source": [
    "# Análisis Exploratorio de Datos (EDA)"
   ]
  },
  {
   "cell_type": "markdown",
   "id": "b02ca47a-1623-4bfc-94e8-a5be8134e2dd",
   "metadata": {
    "jp-MarkdownHeadingCollapsed": true
   },
   "source": [
    "## Carga de datos, limpieza de NaN y librerías necesarias"
   ]
  },
  {
   "cell_type": "code",
   "execution_count": 15,
   "id": "d0064461-9bc7-42e8-9984-f159800c1148",
   "metadata": {},
   "outputs": [],
   "source": [
    "import pandas as pd\n",
    "import numpy as np\n",
    "import plotly.express as px"
   ]
  },
  {
   "cell_type": "markdown",
   "id": "bfdcdbe3-e289-441f-adec-ea237d2d6d69",
   "metadata": {},
   "source": [
    "Carga del dataset a utilizar"
   ]
  },
  {
   "cell_type": "code",
   "execution_count": 2,
   "id": "d9fa4528-9c2c-4784-ae47-18cb6e0f7d5b",
   "metadata": {},
   "outputs": [
    {
     "name": "stdout",
     "output_type": "stream",
     "text": [
      "✅ Dataset enriquecido cargado exitosamente.\n",
      "Dimensiones iniciales: (37399, 25)\n"
     ]
    }
   ],
   "source": [
    "ruta_dataset = \"../data/processed/dataset_final_enriquecido.csv\"\n",
    "df = pd.read_csv(ruta_dataset)\n",
    "# Aseguramos que la columna 'date' se interprete como fecha, es crucial para la interpolación\n",
    "df['date'] = pd.to_datetime(df['date'])\n",
    "\n",
    "print(\"✅ Dataset enriquecido cargado exitosamente.\")\n",
    "print(f\"Dimensiones iniciales: {df.shape}\")"
   ]
  },
  {
   "cell_type": "markdown",
   "id": "383c16bf-de89-4f83-a89a-d21d1cda2910",
   "metadata": {},
   "source": [
    "Imputación de valores faltantes de NOAA mediante datos Open-Meteo"
   ]
  },
  {
   "cell_type": "code",
   "execution_count": 5,
   "id": "83ee4ec0-0461-4891-9340-d939e9ca4c41",
   "metadata": {},
   "outputs": [
    {
     "name": "stdout",
     "output_type": "stream",
     "text": [
      "\n",
      "Iniciando limpieza final de NaN...\n",
      "  -> Huecos en 'TMAX' rellenados con datos de 'om_temperature_2m_max'.\n",
      "  -> Huecos en 'TMIN' rellenados con datos de 'om_temperature_2m_min'.\n",
      "  -> Huecos en 'TAVG' rellenados con datos de 'om_apparent_temperature_mean'.\n",
      "  -> Huecos en 'PRCP' rellenados con datos de 'om_precipitation_sum'.\n",
      "\n",
      "✅ Limpieza final completada. El dataset ya no tiene valores NaN.\n"
     ]
    },
    {
     "name": "stderr",
     "output_type": "stream",
     "text": [
      "C:\\Users\\matia\\AppData\\Local\\Temp\\ipykernel_32\\4289217522.py:19: FutureWarning: DataFrame.interpolate with object dtype is deprecated and will raise in a future version. Call obj.infer_objects(copy=False) before interpolating instead.\n",
      "  df = df.interpolate(method='time')\n"
     ]
    }
   ],
   "source": [
    "print(\"\\nIniciando limpieza final de NaN...\")\n",
    "\n",
    "# Estrategia A: Rellenar huecos de NOAA con datos de Open-Meteo\n",
    "mapeo_columnas = {\n",
    "    'TMAX': 'om_temperature_2m_max', 'TMIN': 'om_temperature_2m_min',\n",
    "    'TAVG': 'om_apparent_temperature_mean', 'PRCP': 'om_precipitation_sum'\n",
    "}\n",
    "for col_noaa, col_om in mapeo_columnas.items():\n",
    "    if col_noaa in df.columns and col_om in df.columns:\n",
    "        df[col_noaa] = df[col_noaa].fillna(df[col_om])\n",
    "        print(f\"  -> Huecos en '{col_noaa}' rellenados con datos de '{col_om}'.\")\n",
    "\n",
    "# === CAMBIOS CLAVE AQUÍ ===\n",
    "# Paso A: Ponemos la fecha como el índice del DataFrame.\n",
    "df = df.set_index('date')\n",
    "\n",
    "# Paso B: Ahora la interpolación basada en tiempo funciona.\n",
    "df = df.interpolate(method='time')\n",
    "\n",
    "# Paso C: Volvemos a convertir el índice 'date' en una columna normal.\n",
    "df = df.reset_index()\n",
    "# ===========================\n",
    "\n",
    "# Estrategia C: Rellenar cualquier otro posible NaN con 0 (ej. SNWD)\n",
    "df = df.fillna(0)\n",
    "\n",
    "print(\"\\n✅ Limpieza final completada. El dataset ya no tiene valores NaN.\")"
   ]
  },
  {
   "cell_type": "markdown",
   "id": "ed58f9ab-7baa-4402-ab6d-58e08440e482",
   "metadata": {},
   "source": [
    "Verificacion"
   ]
  },
  {
   "cell_type": "code",
   "execution_count": 6,
   "id": "d95c1b44-1887-4287-abb8-f9bab4cedfc7",
   "metadata": {},
   "outputs": [
    {
     "name": "stdout",
     "output_type": "stream",
     "text": [
      "\n",
      "--- Información del Dataset 100% Limpio ---\n",
      "<class 'pandas.core.frame.DataFrame'>\n",
      "RangeIndex: 37399 entries, 0 to 37398\n",
      "Data columns (total 25 columns):\n",
      " #   Column                          Non-Null Count  Dtype         \n",
      "---  ------                          --------------  -----         \n",
      " 0   date                            37399 non-null  datetime64[ns]\n",
      " 1   station_name                    37399 non-null  object        \n",
      " 2   PRCP                            37399 non-null  float64       \n",
      " 3   SNWD                            37399 non-null  float64       \n",
      " 4   TAVG                            37399 non-null  float64       \n",
      " 5   TMAX                            37399 non-null  float64       \n",
      " 6   TMIN                            37399 non-null  float64       \n",
      " 7   granizo                         37399 non-null  int64         \n",
      " 8   latitude                        37399 non-null  float64       \n",
      " 9   longitude                       37399 non-null  float64       \n",
      " 10  om_weather_code                 37399 non-null  float64       \n",
      " 11  om_temperature_2m_max           37399 non-null  float64       \n",
      " 12  om_temperature_2m_min           37399 non-null  float64       \n",
      " 13  om_apparent_temperature_mean    37399 non-null  float64       \n",
      " 14  om_precipitation_sum            37399 non-null  float64       \n",
      " 15  om_rain_sum                     37399 non-null  float64       \n",
      " 16  om_snowfall_sum                 37399 non-null  float64       \n",
      " 17  om_precipitation_hours          37399 non-null  float64       \n",
      " 18  om_wind_gusts_10m_max           37399 non-null  float64       \n",
      " 19  om_wind_direction_10m_dominant  37399 non-null  float64       \n",
      " 20  om_shortwave_radiation_sum      37399 non-null  float64       \n",
      " 21  om_et0_fao_evapotranspiration   37399 non-null  float64       \n",
      " 22  om_dew_point_2m_mean            37399 non-null  float64       \n",
      " 23  om_relative_humidity_2m_mean    37399 non-null  float64       \n",
      " 24  om_pressure_msl_mean            37399 non-null  float64       \n",
      "dtypes: datetime64[ns](1), float64(22), int64(1), object(1)\n",
      "memory usage: 7.1+ MB\n"
     ]
    }
   ],
   "source": [
    "print(\"\\n--- Información del Dataset 100% Limpio ---\")\n",
    "df.info()"
   ]
  },
  {
   "cell_type": "markdown",
   "id": "916093e5-3d6d-42b6-b754-122e2ac690e1",
   "metadata": {},
   "source": [
    "Como podemos observar quedo un dataset sin nulos, ya que para los datos faltantes del NOAA se cargaron los que obtuvimos de la API Open-Meteo.\n",
    "Luego se promediara cada día entre NOAA y Open-Meteo para obtener una estadística más rigurosa sobre los datos estacionales y poder converger en una única medida para el modelo final."
   ]
  },
  {
   "cell_type": "markdown",
   "id": "af134dbd-efc9-4bb8-a2cf-6418d893ee92",
   "metadata": {
    "jp-MarkdownHeadingCollapsed": true
   },
   "source": [
    "## Ingeniería de Características"
   ]
  },
  {
   "cell_type": "code",
   "execution_count": 8,
   "id": "bae03670-4248-40e9-8efa-40c506bfdcb1",
   "metadata": {},
   "outputs": [
    {
     "name": "stdout",
     "output_type": "stream",
     "text": [
      "✅ Nuevas características ('mes', 'rango_temp_diario') creadas exitosamente.\n"
     ]
    },
    {
     "data": {
      "text/html": [
       "<div>\n",
       "<style scoped>\n",
       "    .dataframe tbody tr th:only-of-type {\n",
       "        vertical-align: middle;\n",
       "    }\n",
       "\n",
       "    .dataframe tbody tr th {\n",
       "        vertical-align: top;\n",
       "    }\n",
       "\n",
       "    .dataframe thead th {\n",
       "        text-align: right;\n",
       "    }\n",
       "</style>\n",
       "<table border=\"1\" class=\"dataframe\">\n",
       "  <thead>\n",
       "    <tr style=\"text-align: right;\">\n",
       "      <th></th>\n",
       "      <th>date</th>\n",
       "      <th>mes</th>\n",
       "      <th>TMAX</th>\n",
       "      <th>TMIN</th>\n",
       "      <th>rango_temp_diario</th>\n",
       "    </tr>\n",
       "  </thead>\n",
       "  <tbody>\n",
       "    <tr>\n",
       "      <th>0</th>\n",
       "      <td>2000-01-01</td>\n",
       "      <td>1</td>\n",
       "      <td>24.939999</td>\n",
       "      <td>12.7</td>\n",
       "      <td>12.239999</td>\n",
       "    </tr>\n",
       "    <tr>\n",
       "      <th>1</th>\n",
       "      <td>2000-01-01</td>\n",
       "      <td>1</td>\n",
       "      <td>32.800000</td>\n",
       "      <td>17.0</td>\n",
       "      <td>15.800000</td>\n",
       "    </tr>\n",
       "    <tr>\n",
       "      <th>2</th>\n",
       "      <td>2000-01-01</td>\n",
       "      <td>1</td>\n",
       "      <td>27.896000</td>\n",
       "      <td>17.5</td>\n",
       "      <td>10.396000</td>\n",
       "    </tr>\n",
       "    <tr>\n",
       "      <th>3</th>\n",
       "      <td>2000-01-01</td>\n",
       "      <td>1</td>\n",
       "      <td>31.000000</td>\n",
       "      <td>15.2</td>\n",
       "      <td>15.800000</td>\n",
       "    </tr>\n",
       "    <tr>\n",
       "      <th>4</th>\n",
       "      <td>2000-01-02</td>\n",
       "      <td>1</td>\n",
       "      <td>28.900000</td>\n",
       "      <td>11.4</td>\n",
       "      <td>17.500000</td>\n",
       "    </tr>\n",
       "  </tbody>\n",
       "</table>\n",
       "</div>"
      ],
      "text/plain": [
       "        date  mes       TMAX  TMIN  rango_temp_diario\n",
       "0 2000-01-01    1  24.939999  12.7          12.239999\n",
       "1 2000-01-01    1  32.800000  17.0          15.800000\n",
       "2 2000-01-01    1  27.896000  17.5          10.396000\n",
       "3 2000-01-01    1  31.000000  15.2          15.800000\n",
       "4 2000-01-02    1  28.900000  11.4          17.500000"
      ]
     },
     "metadata": {},
     "output_type": "display_data"
    }
   ],
   "source": [
    "# --- Ingeniería de Características (Feature Engineering) ---\n",
    "# Extraemos el mes de la columna 'date'. El granizo es muy estacional.\n",
    "df['mes'] = df['date'].dt.month\n",
    "\n",
    "# --- Característica de Interacción ---\n",
    "# Calculamos el rango de temperatura diario. Un rango amplio puede indicar inestabilidad.\n",
    "df['rango_temp_diario'] = df['TMAX'] - df['TMIN']\n",
    "\n",
    "print(\"✅ Nuevas características ('mes', 'rango_temp_diario') creadas exitosamente.\")\n",
    "display(df[['date', 'mes', 'TMAX', 'TMIN', 'rango_temp_diario']].head())"
   ]
  },
  {
   "cell_type": "markdown",
   "id": "7d0414c4-7e49-4018-935a-10cfe8feefe5",
   "metadata": {},
   "source": [
    "Esto se realiza ya que el granizo es estacionario, buscamos ver mejor sus patrones climaticos a travez del tiempo"
   ]
  },
  {
   "cell_type": "markdown",
   "id": "737e2994-ae80-432a-88f1-2a6be74fb6ce",
   "metadata": {},
   "source": [
    "## Analisis Exploratorio de Datos"
   ]
  },
  {
   "cell_type": "markdown",
   "id": "ae385b29-7047-4293-93db-dcd63244fe76",
   "metadata": {},
   "source": [
    "### Análisis de Correlación General (Heatmap 2.0)"
   ]
  },
  {
   "cell_type": "code",
   "execution_count": 16,
   "id": "6638c321-cc95-4967-a97f-4ec495ff39be",
   "metadata": {},
   "outputs": [
    {
     "name": "stdout",
     "output_type": "stream",
     "text": [
      "\n",
      "Generando nuevo heatmap de correlación...\n"
     ]
    },
    {
     "data": {
      "application/vnd.plotly.v1+json": {
       "config": {
        "plotlyServerURL": "https://plot.ly"
       },
       "data": [
        {
         "coloraxis": "coloraxis",
         "hovertemplate": "x: %{x}<br>y: %{y}<br>color: %{z}<extra></extra>",
         "name": "0",
         "texttemplate": "%{z}",
         "type": "heatmap",
         "x": [
          "TMAX",
          "TMIN",
          "PRCP",
          "rango_temp_diario",
          "mes",
          "om_precipitation_hours",
          "om_wind_gusts_10m_max",
          "om_shortwave_radiation_sum",
          "om_dew_point_2m_mean",
          "om_pressure_msl_mean",
          "granizo"
         ],
         "xaxis": "x",
         "y": [
          "TMAX",
          "TMIN",
          "PRCP",
          "rango_temp_diario",
          "mes",
          "om_precipitation_hours",
          "om_wind_gusts_10m_max",
          "om_shortwave_radiation_sum",
          "om_dew_point_2m_mean",
          "om_pressure_msl_mean",
          "granizo"
         ],
         "yaxis": "y",
         "z": {
          "bdata": "AAAAAAAA8D+t2Vf9/3LrPy0Gdci8ZHS//bIFbzdk3D/3Mn/gVPO1v9RZexZEB8C/2yl7W6T42T9ubYdQR5XmP1+hk6y9duI/NpKEfYKx5b/tx4cd7zqkP63ZV/3/cus/AAAAAAAA8D+C0MEXu5KvPwTdgCBbg7S/+biZc6kXxb9AwTZ1HSWmP/P8vZgI9NQ/vwpU66zz4T9uxFOAbzroPz+qniSGreK/h+8DTkpCqj8tBnXIvGR0v4LQwRe7kq8/AAAAAAAA8D/n/0ANTP+9v9SzS5wsaKa/7oxmaG8t1z8cT6xKP82mP6REv4rO1bS/7VkGIAyYwT/o8tEQkemMP+0rhlRHh54//bIFbzdk3D8E3YAgW4O0v+f/QA1M/72/AAAAAAAA8D8w0+4fYfy+Px8aaMQ5XtS/SB0wZmGpyz+XRMwjuPzYP65XnBfTwMm/LvkSVjkB07+hmLWG0zaKv/cyf+BU87W/+biZc6kXxb/Us0ucLGimvzDT7h9h/L4/AAAAAAAA8D8VzWUZxsehv4ZomZnDtsA/UPt63sHwxT8Q7CbtHPnVv+Qfo2ubBZw/YTQtGbe/W7/UWXsWRAfAv0DBNnUdJaY/7oxmaG8t1z8fGmjEOV7UvxXNZRnGx6G/AAAAAAAA8D/868HYage4P4735mCgLNS/ofwZ0rKLyj/3bKICP1C4P16/Cdj356E/2yl7W6T42T/z/L2YCPTUPxxPrEo/zaY/SB0wZmGpyz+GaJmZw7bAP/zrwdhqB7g/AAAAAAAA8D+RiwXvQJ7WP/OPwk/PeKg/ffcYEfmv1L9+TYgFoJWTP25th1BHleY/vwpU66zz4T+kRL+KztW0v5dEzCO4/Ng/UPt63sHwxT+O9+ZgoCzUv5GLBe9AntY/AAAAAAAA8D8vRy57bOfJP9WhYShTNN+/2idHvof/mT9foZOsvXbiP27EU4BvOug/7VkGIAyYwT+uV5wX08DJvxDsJu0c+dW/ofwZ0rKLyj/zj8JPz3ioPy9HLnts58k/AAAAAAAA8D/e8hNqijjbv9DcReJM0Kw/NpKEfYKx5b8/qp4khq3iv+jy0RCR6Yw/LvkSVjkB07/kH6NrmwWcP/dsogI/ULg/ffcYEfmv1L/VoWEoUzTfv97yE2qKONu/AAAAAAAA8D9BxHcufbyev+3Hhx3vOqQ/h+8DTkpCqj/tK4ZUR4eeP6GYtYbTNoq/YTQtGbe/W79evwnY9+ehP35NiAWglZM/2idHvof/mT/Q3EXiTNCsP0HEdy59vJ6/AAAAAAAA8D8=",
          "dtype": "f8",
          "shape": "11, 11"
         }
        }
       ],
       "layout": {
        "coloraxis": {
         "colorscale": [
          [
           0,
           "rgb(5,48,97)"
          ],
          [
           0.1,
           "rgb(33,102,172)"
          ],
          [
           0.2,
           "rgb(67,147,195)"
          ],
          [
           0.3,
           "rgb(146,197,222)"
          ],
          [
           0.4,
           "rgb(209,229,240)"
          ],
          [
           0.5,
           "rgb(247,247,247)"
          ],
          [
           0.6,
           "rgb(253,219,199)"
          ],
          [
           0.7,
           "rgb(244,165,130)"
          ],
          [
           0.8,
           "rgb(214,96,77)"
          ],
          [
           0.9,
           "rgb(178,24,43)"
          ],
          [
           1,
           "rgb(103,0,31)"
          ]
         ]
        },
        "template": {
         "data": {
          "bar": [
           {
            "error_x": {
             "color": "#2a3f5f"
            },
            "error_y": {
             "color": "#2a3f5f"
            },
            "marker": {
             "line": {
              "color": "#E5ECF6",
              "width": 0.5
             },
             "pattern": {
              "fillmode": "overlay",
              "size": 10,
              "solidity": 0.2
             }
            },
            "type": "bar"
           }
          ],
          "barpolar": [
           {
            "marker": {
             "line": {
              "color": "#E5ECF6",
              "width": 0.5
             },
             "pattern": {
              "fillmode": "overlay",
              "size": 10,
              "solidity": 0.2
             }
            },
            "type": "barpolar"
           }
          ],
          "carpet": [
           {
            "aaxis": {
             "endlinecolor": "#2a3f5f",
             "gridcolor": "white",
             "linecolor": "white",
             "minorgridcolor": "white",
             "startlinecolor": "#2a3f5f"
            },
            "baxis": {
             "endlinecolor": "#2a3f5f",
             "gridcolor": "white",
             "linecolor": "white",
             "minorgridcolor": "white",
             "startlinecolor": "#2a3f5f"
            },
            "type": "carpet"
           }
          ],
          "choropleth": [
           {
            "colorbar": {
             "outlinewidth": 0,
             "ticks": ""
            },
            "type": "choropleth"
           }
          ],
          "contour": [
           {
            "colorbar": {
             "outlinewidth": 0,
             "ticks": ""
            },
            "colorscale": [
             [
              0,
              "#0d0887"
             ],
             [
              0.1111111111111111,
              "#46039f"
             ],
             [
              0.2222222222222222,
              "#7201a8"
             ],
             [
              0.3333333333333333,
              "#9c179e"
             ],
             [
              0.4444444444444444,
              "#bd3786"
             ],
             [
              0.5555555555555556,
              "#d8576b"
             ],
             [
              0.6666666666666666,
              "#ed7953"
             ],
             [
              0.7777777777777778,
              "#fb9f3a"
             ],
             [
              0.8888888888888888,
              "#fdca26"
             ],
             [
              1,
              "#f0f921"
             ]
            ],
            "type": "contour"
           }
          ],
          "contourcarpet": [
           {
            "colorbar": {
             "outlinewidth": 0,
             "ticks": ""
            },
            "type": "contourcarpet"
           }
          ],
          "heatmap": [
           {
            "colorbar": {
             "outlinewidth": 0,
             "ticks": ""
            },
            "colorscale": [
             [
              0,
              "#0d0887"
             ],
             [
              0.1111111111111111,
              "#46039f"
             ],
             [
              0.2222222222222222,
              "#7201a8"
             ],
             [
              0.3333333333333333,
              "#9c179e"
             ],
             [
              0.4444444444444444,
              "#bd3786"
             ],
             [
              0.5555555555555556,
              "#d8576b"
             ],
             [
              0.6666666666666666,
              "#ed7953"
             ],
             [
              0.7777777777777778,
              "#fb9f3a"
             ],
             [
              0.8888888888888888,
              "#fdca26"
             ],
             [
              1,
              "#f0f921"
             ]
            ],
            "type": "heatmap"
           }
          ],
          "histogram": [
           {
            "marker": {
             "pattern": {
              "fillmode": "overlay",
              "size": 10,
              "solidity": 0.2
             }
            },
            "type": "histogram"
           }
          ],
          "histogram2d": [
           {
            "colorbar": {
             "outlinewidth": 0,
             "ticks": ""
            },
            "colorscale": [
             [
              0,
              "#0d0887"
             ],
             [
              0.1111111111111111,
              "#46039f"
             ],
             [
              0.2222222222222222,
              "#7201a8"
             ],
             [
              0.3333333333333333,
              "#9c179e"
             ],
             [
              0.4444444444444444,
              "#bd3786"
             ],
             [
              0.5555555555555556,
              "#d8576b"
             ],
             [
              0.6666666666666666,
              "#ed7953"
             ],
             [
              0.7777777777777778,
              "#fb9f3a"
             ],
             [
              0.8888888888888888,
              "#fdca26"
             ],
             [
              1,
              "#f0f921"
             ]
            ],
            "type": "histogram2d"
           }
          ],
          "histogram2dcontour": [
           {
            "colorbar": {
             "outlinewidth": 0,
             "ticks": ""
            },
            "colorscale": [
             [
              0,
              "#0d0887"
             ],
             [
              0.1111111111111111,
              "#46039f"
             ],
             [
              0.2222222222222222,
              "#7201a8"
             ],
             [
              0.3333333333333333,
              "#9c179e"
             ],
             [
              0.4444444444444444,
              "#bd3786"
             ],
             [
              0.5555555555555556,
              "#d8576b"
             ],
             [
              0.6666666666666666,
              "#ed7953"
             ],
             [
              0.7777777777777778,
              "#fb9f3a"
             ],
             [
              0.8888888888888888,
              "#fdca26"
             ],
             [
              1,
              "#f0f921"
             ]
            ],
            "type": "histogram2dcontour"
           }
          ],
          "mesh3d": [
           {
            "colorbar": {
             "outlinewidth": 0,
             "ticks": ""
            },
            "type": "mesh3d"
           }
          ],
          "parcoords": [
           {
            "line": {
             "colorbar": {
              "outlinewidth": 0,
              "ticks": ""
             }
            },
            "type": "parcoords"
           }
          ],
          "pie": [
           {
            "automargin": true,
            "type": "pie"
           }
          ],
          "scatter": [
           {
            "fillpattern": {
             "fillmode": "overlay",
             "size": 10,
             "solidity": 0.2
            },
            "type": "scatter"
           }
          ],
          "scatter3d": [
           {
            "line": {
             "colorbar": {
              "outlinewidth": 0,
              "ticks": ""
             }
            },
            "marker": {
             "colorbar": {
              "outlinewidth": 0,
              "ticks": ""
             }
            },
            "type": "scatter3d"
           }
          ],
          "scattercarpet": [
           {
            "marker": {
             "colorbar": {
              "outlinewidth": 0,
              "ticks": ""
             }
            },
            "type": "scattercarpet"
           }
          ],
          "scattergeo": [
           {
            "marker": {
             "colorbar": {
              "outlinewidth": 0,
              "ticks": ""
             }
            },
            "type": "scattergeo"
           }
          ],
          "scattergl": [
           {
            "marker": {
             "colorbar": {
              "outlinewidth": 0,
              "ticks": ""
             }
            },
            "type": "scattergl"
           }
          ],
          "scattermap": [
           {
            "marker": {
             "colorbar": {
              "outlinewidth": 0,
              "ticks": ""
             }
            },
            "type": "scattermap"
           }
          ],
          "scattermapbox": [
           {
            "marker": {
             "colorbar": {
              "outlinewidth": 0,
              "ticks": ""
             }
            },
            "type": "scattermapbox"
           }
          ],
          "scatterpolar": [
           {
            "marker": {
             "colorbar": {
              "outlinewidth": 0,
              "ticks": ""
             }
            },
            "type": "scatterpolar"
           }
          ],
          "scatterpolargl": [
           {
            "marker": {
             "colorbar": {
              "outlinewidth": 0,
              "ticks": ""
             }
            },
            "type": "scatterpolargl"
           }
          ],
          "scatterternary": [
           {
            "marker": {
             "colorbar": {
              "outlinewidth": 0,
              "ticks": ""
             }
            },
            "type": "scatterternary"
           }
          ],
          "surface": [
           {
            "colorbar": {
             "outlinewidth": 0,
             "ticks": ""
            },
            "colorscale": [
             [
              0,
              "#0d0887"
             ],
             [
              0.1111111111111111,
              "#46039f"
             ],
             [
              0.2222222222222222,
              "#7201a8"
             ],
             [
              0.3333333333333333,
              "#9c179e"
             ],
             [
              0.4444444444444444,
              "#bd3786"
             ],
             [
              0.5555555555555556,
              "#d8576b"
             ],
             [
              0.6666666666666666,
              "#ed7953"
             ],
             [
              0.7777777777777778,
              "#fb9f3a"
             ],
             [
              0.8888888888888888,
              "#fdca26"
             ],
             [
              1,
              "#f0f921"
             ]
            ],
            "type": "surface"
           }
          ],
          "table": [
           {
            "cells": {
             "fill": {
              "color": "#EBF0F8"
             },
             "line": {
              "color": "white"
             }
            },
            "header": {
             "fill": {
              "color": "#C8D4E3"
             },
             "line": {
              "color": "white"
             }
            },
            "type": "table"
           }
          ]
         },
         "layout": {
          "annotationdefaults": {
           "arrowcolor": "#2a3f5f",
           "arrowhead": 0,
           "arrowwidth": 1
          },
          "autotypenumbers": "strict",
          "coloraxis": {
           "colorbar": {
            "outlinewidth": 0,
            "ticks": ""
           }
          },
          "colorscale": {
           "diverging": [
            [
             0,
             "#8e0152"
            ],
            [
             0.1,
             "#c51b7d"
            ],
            [
             0.2,
             "#de77ae"
            ],
            [
             0.3,
             "#f1b6da"
            ],
            [
             0.4,
             "#fde0ef"
            ],
            [
             0.5,
             "#f7f7f7"
            ],
            [
             0.6,
             "#e6f5d0"
            ],
            [
             0.7,
             "#b8e186"
            ],
            [
             0.8,
             "#7fbc41"
            ],
            [
             0.9,
             "#4d9221"
            ],
            [
             1,
             "#276419"
            ]
           ],
           "sequential": [
            [
             0,
             "#0d0887"
            ],
            [
             0.1111111111111111,
             "#46039f"
            ],
            [
             0.2222222222222222,
             "#7201a8"
            ],
            [
             0.3333333333333333,
             "#9c179e"
            ],
            [
             0.4444444444444444,
             "#bd3786"
            ],
            [
             0.5555555555555556,
             "#d8576b"
            ],
            [
             0.6666666666666666,
             "#ed7953"
            ],
            [
             0.7777777777777778,
             "#fb9f3a"
            ],
            [
             0.8888888888888888,
             "#fdca26"
            ],
            [
             1,
             "#f0f921"
            ]
           ],
           "sequentialminus": [
            [
             0,
             "#0d0887"
            ],
            [
             0.1111111111111111,
             "#46039f"
            ],
            [
             0.2222222222222222,
             "#7201a8"
            ],
            [
             0.3333333333333333,
             "#9c179e"
            ],
            [
             0.4444444444444444,
             "#bd3786"
            ],
            [
             0.5555555555555556,
             "#d8576b"
            ],
            [
             0.6666666666666666,
             "#ed7953"
            ],
            [
             0.7777777777777778,
             "#fb9f3a"
            ],
            [
             0.8888888888888888,
             "#fdca26"
            ],
            [
             1,
             "#f0f921"
            ]
           ]
          },
          "colorway": [
           "#636efa",
           "#EF553B",
           "#00cc96",
           "#ab63fa",
           "#FFA15A",
           "#19d3f3",
           "#FF6692",
           "#B6E880",
           "#FF97FF",
           "#FECB52"
          ],
          "font": {
           "color": "#2a3f5f"
          },
          "geo": {
           "bgcolor": "white",
           "lakecolor": "white",
           "landcolor": "#E5ECF6",
           "showlakes": true,
           "showland": true,
           "subunitcolor": "white"
          },
          "hoverlabel": {
           "align": "left"
          },
          "hovermode": "closest",
          "mapbox": {
           "style": "light"
          },
          "paper_bgcolor": "white",
          "plot_bgcolor": "#E5ECF6",
          "polar": {
           "angularaxis": {
            "gridcolor": "white",
            "linecolor": "white",
            "ticks": ""
           },
           "bgcolor": "#E5ECF6",
           "radialaxis": {
            "gridcolor": "white",
            "linecolor": "white",
            "ticks": ""
           }
          },
          "scene": {
           "xaxis": {
            "backgroundcolor": "#E5ECF6",
            "gridcolor": "white",
            "gridwidth": 2,
            "linecolor": "white",
            "showbackground": true,
            "ticks": "",
            "zerolinecolor": "white"
           },
           "yaxis": {
            "backgroundcolor": "#E5ECF6",
            "gridcolor": "white",
            "gridwidth": 2,
            "linecolor": "white",
            "showbackground": true,
            "ticks": "",
            "zerolinecolor": "white"
           },
           "zaxis": {
            "backgroundcolor": "#E5ECF6",
            "gridcolor": "white",
            "gridwidth": 2,
            "linecolor": "white",
            "showbackground": true,
            "ticks": "",
            "zerolinecolor": "white"
           }
          },
          "shapedefaults": {
           "line": {
            "color": "#2a3f5f"
           }
          },
          "ternary": {
           "aaxis": {
            "gridcolor": "white",
            "linecolor": "white",
            "ticks": ""
           },
           "baxis": {
            "gridcolor": "white",
            "linecolor": "white",
            "ticks": ""
           },
           "bgcolor": "#E5ECF6",
           "caxis": {
            "gridcolor": "white",
            "linecolor": "white",
            "ticks": ""
           }
          },
          "title": {
           "x": 0.05
          },
          "xaxis": {
           "automargin": true,
           "gridcolor": "white",
           "linecolor": "white",
           "ticks": "",
           "title": {
            "standoff": 15
           },
           "zerolinecolor": "white",
           "zerolinewidth": 2
          },
          "yaxis": {
           "automargin": true,
           "gridcolor": "white",
           "linecolor": "white",
           "ticks": "",
           "title": {
            "standoff": 15
           },
           "zerolinecolor": "white",
           "zerolinewidth": 2
          }
         }
        },
        "title": {
         "text": "Matriz de Correlación (Dataset Enriquecido)"
        },
        "xaxis": {
         "anchor": "y",
         "domain": [
          0,
          1
         ]
        },
        "yaxis": {
         "anchor": "x",
         "autorange": "reversed",
         "domain": [
          0,
          1
         ]
        }
       }
      },
      "image/png": "[encoded data removed]"
     },
     "metadata": {},
     "output_type": "display_data"
    }
   ],
   "source": [
    "print(\"\\nGenerando nuevo heatmap de correlación...\")\n",
    "\n",
    "# Seleccionamos un conjunto más amplio de variables prometedoras\n",
    "columnas_interes = [\n",
    "    'TMAX', 'TMIN', 'PRCP', 'rango_temp_diario', 'mes',\n",
    "    'om_precipitation_hours', 'om_wind_gusts_10m_max', \n",
    "    'om_shortwave_radiation_sum', 'om_dew_point_2m_mean', \n",
    "    'om_pressure_msl_mean', 'granizo'\n",
    "]\n",
    "df_seleccion = df[columnas_interes]\n",
    "\n",
    "# Calculamos la matriz de correlación\n",
    "matriz_correlacion_pro = df_seleccion.corr()\n",
    "\n",
    "# Creamos la visualización\n",
    "fig_heatmap = px.imshow(\n",
    "    matriz_correlacion_pro,\n",
    "    text_auto=True,\n",
    "    aspect=\"auto\",\n",
    "    color_continuous_scale='RdBu_r', # Paleta Rojo-Azul\n",
    "    title='Matriz de Correlación (Dataset Enriquecido)'\n",
    ")\n",
    "fig_heatmap.show()"
   ]
  },
  {
   "cell_type": "code",
   "execution_count": null,
   "id": "61158982-ace8-4d80-a225-6d69120dbded",
   "metadata": {},
   "outputs": [],
   "source": []
  }
 ],
 "metadata": {
  "kernelspec": {
   "display_name": "Python 3 (ipykernel)",
   "language": "python",
   "name": "python3"
  },
  "language_info": {
   "codemirror_mode": {
    "name": "ipython",
    "version": 3
   },
   "file_extension": ".py",
   "mimetype": "text/x-python",
   "name": "python",
   "nbconvert_exporter": "python",
   "pygments_lexer": "ipython3",
   "version": "3.12.10"
  }
 },
 "nbformat": 4,
 "nbformat_minor": 5
}
