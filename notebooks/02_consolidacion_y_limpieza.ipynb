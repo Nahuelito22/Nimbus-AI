{
 "cells": [
  {
   "cell_type": "markdown",
   "id": "e0cdbfe4-65a8-4922-a085-7193c5f0e5fa",
   "metadata": {},
   "source": [
    "# Limpieza y Análisis exploratorio de datos (EDA)"
   ]
  },
  {
   "cell_type": "markdown",
   "id": "93cda68e-2a1c-409a-b656-eb50d8939369",
   "metadata": {
    "jp-MarkdownHeadingCollapsed": true
   },
   "source": [
    "## Union y consolidazon de 5 csv"
   ]
  },
  {
   "cell_type": "markdown",
   "id": "cc43badb-da1c-4ed9-808c-aee459efab36",
   "metadata": {},
   "source": [
    "En esta notebook se desarrollará la unión de los CSV sobre las 5 estaciones meteorológicas de Mendoza, así como procesos de limpieza de datos y reestructuración de dataframe."
   ]
  },
  {
   "cell_type": "code",
   "execution_count": 1,
   "id": "53b8a183-e826-414d-a7ce-1e31e5f31b44",
   "metadata": {},
   "outputs": [
    {
     "name": "stdout",
     "output_type": "stream",
     "text": [
      "Iniciando consolidación de datos...\n",
      "Se encontraron 5 archivos de estaciones para consolidar.\n",
      "\n",
      "✅ ¡Éxito! Dataset consolidado guardado en:\n",
      "'../data/processed/datos_noaa_mendoza_consolidado.csv'\n",
      "\n",
      "--- Muestra del Dataset Final ---\n"
     ]
    },
    {
     "data": {
      "text/html": [
       "<div>\n",
       "<style scoped>\n",
       "    .dataframe tbody tr th:only-of-type {\n",
       "        vertical-align: middle;\n",
       "    }\n",
       "\n",
       "    .dataframe tbody tr th {\n",
       "        vertical-align: top;\n",
       "    }\n",
       "\n",
       "    .dataframe thead th {\n",
       "        text-align: right;\n",
       "    }\n",
       "</style>\n",
       "<table border=\"1\" class=\"dataframe\">\n",
       "  <thead>\n",
       "    <tr style=\"text-align: right;\">\n",
       "      <th>datatype</th>\n",
       "      <th>date</th>\n",
       "      <th>station_name</th>\n",
       "      <th>PRCP</th>\n",
       "      <th>SNWD</th>\n",
       "      <th>TAVG</th>\n",
       "      <th>TMAX</th>\n",
       "      <th>TMIN</th>\n",
       "    </tr>\n",
       "  </thead>\n",
       "  <tbody>\n",
       "    <tr>\n",
       "      <th>0</th>\n",
       "      <td>2000-01-01T00:00:00</td>\n",
       "      <td>MALARGUE, AR</td>\n",
       "      <td>NaN</td>\n",
       "      <td>NaN</td>\n",
       "      <td>20.8</td>\n",
       "      <td>NaN</td>\n",
       "      <td>12.7</td>\n",
       "    </tr>\n",
       "    <tr>\n",
       "      <th>1</th>\n",
       "      <td>2000-01-01T00:00:00</td>\n",
       "      <td>MENDOZA AERO, AR</td>\n",
       "      <td>NaN</td>\n",
       "      <td>NaN</td>\n",
       "      <td>24.4</td>\n",
       "      <td>32.8</td>\n",
       "      <td>17.0</td>\n",
       "    </tr>\n",
       "    <tr>\n",
       "      <th>2</th>\n",
       "      <td>2000-01-01T00:00:00</td>\n",
       "      <td>SAN MARTIN, AR</td>\n",
       "      <td>0.0</td>\n",
       "      <td>NaN</td>\n",
       "      <td>24.1</td>\n",
       "      <td>NaN</td>\n",
       "      <td>17.5</td>\n",
       "    </tr>\n",
       "    <tr>\n",
       "      <th>3</th>\n",
       "      <td>2000-01-01T00:00:00</td>\n",
       "      <td>SAN RAFAEL, AR</td>\n",
       "      <td>3.0</td>\n",
       "      <td>NaN</td>\n",
       "      <td>22.3</td>\n",
       "      <td>31.0</td>\n",
       "      <td>15.2</td>\n",
       "    </tr>\n",
       "    <tr>\n",
       "      <th>4</th>\n",
       "      <td>2000-01-02T00:00:00</td>\n",
       "      <td>MALARGUE, AR</td>\n",
       "      <td>0.0</td>\n",
       "      <td>NaN</td>\n",
       "      <td>20.8</td>\n",
       "      <td>28.9</td>\n",
       "      <td>11.4</td>\n",
       "    </tr>\n",
       "  </tbody>\n",
       "</table>\n",
       "</div>"
      ],
      "text/plain": [
       "datatype                 date      station_name  PRCP  SNWD  TAVG  TMAX  TMIN\n",
       "0         2000-01-01T00:00:00      MALARGUE, AR   NaN   NaN  20.8   NaN  12.7\n",
       "1         2000-01-01T00:00:00  MENDOZA AERO, AR   NaN   NaN  24.4  32.8  17.0\n",
       "2         2000-01-01T00:00:00    SAN MARTIN, AR   0.0   NaN  24.1   NaN  17.5\n",
       "3         2000-01-01T00:00:00    SAN RAFAEL, AR   3.0   NaN  22.3  31.0  15.2\n",
       "4         2000-01-02T00:00:00      MALARGUE, AR   0.0   NaN  20.8  28.9  11.4"
      ]
     },
     "metadata": {},
     "output_type": "display_data"
    }
   ],
   "source": [
    "import pandas as pd\n",
    "import glob\n",
    "import os\n",
    "\n",
    "print(\"Iniciando consolidación de datos...\")\n",
    "\n",
    "# Creamos la ruta correcta para encontrar los archivos desde la carpeta 'notebooks/'\n",
    "ruta_a_los_datos = \"../data/raw/station_*.csv\"\n",
    "archivos_estaciones = glob.glob(ruta_a_los_datos)\n",
    "\n",
    "if archivos_estaciones:\n",
    "    print(f\"Se encontraron {len(archivos_estaciones)} archivos de estaciones para consolidar.\")\n",
    "    \n",
    "    lista_df_estaciones = [pd.read_csv(archivo) for archivo in archivos_estaciones]\n",
    "    \n",
    "    # Unimos todos los dataframes en uno solo\n",
    "    df_final_raw = pd.concat(lista_df_estaciones, ignore_index=True)\n",
    "    \n",
    "    # Pivotamos la tabla para darle el formato final\n",
    "    df_final_procesado = df_final_raw.pivot_table(index=['date', 'station_name'], columns='datatype', values='value').reset_index()\n",
    "\n",
    "    # --- Guardamos el nuevo dataset consolidado en la carpeta 'processed' ---\n",
    "    # Creamos la carpeta 'processed' si no existe\n",
    "    os.makedirs(\"../data/processed/\", exist_ok=True)\n",
    "    \n",
    "    ruta_salida = \"../data/processed/datos_noaa_mendoza_consolidado.csv\"\n",
    "    df_final_procesado.to_csv(ruta_salida, index=False)\n",
    "    \n",
    "    print(f\"\\n✅ ¡Éxito! Dataset consolidado guardado en:\")\n",
    "    print(f\"'{ruta_salida}'\")\n",
    "    \n",
    "    print(\"\\n--- Muestra del Dataset Final ---\")\n",
    "    display(df_final_procesado.head()) # 'display()' es mejor que 'print()' para dataframes en notebooks\n",
    "else:\n",
    "    print(\"❌ No se encontraron archivos de checkpoint en '../data/raw/' para consolidar.\")"
   ]
  },
  {
   "cell_type": "markdown",
   "id": "0cefa0d5-847f-4af4-816a-a8bcb70129f1",
   "metadata": {},
   "source": [
    "Vemos un poco de información del dataframe obtenido"
   ]
  },
  {
   "cell_type": "code",
   "execution_count": 3,
   "id": "888e9143-d17d-42a1-8bfa-f53f46739b51",
   "metadata": {},
   "outputs": [
    {
     "name": "stdout",
     "output_type": "stream",
     "text": [
      "<class 'pandas.core.frame.DataFrame'>\n",
      "RangeIndex: 37399 entries, 0 to 37398\n",
      "Data columns (total 7 columns):\n",
      " #   Column        Non-Null Count  Dtype  \n",
      "---  ------        --------------  -----  \n",
      " 0   date          37399 non-null  object \n",
      " 1   station_name  37399 non-null  object \n",
      " 2   PRCP          9668 non-null   float64\n",
      " 3   SNWD          225 non-null    float64\n",
      " 4   TAVG          37397 non-null  float64\n",
      " 5   TMAX          19599 non-null  float64\n",
      " 6   TMIN          35148 non-null  float64\n",
      "dtypes: float64(5), object(2)\n",
      "memory usage: 2.0+ MB\n"
     ]
    }
   ],
   "source": [
    "df_final_procesado.info()"
   ]
  },
  {
   "cell_type": "markdown",
   "id": "6004a02f-d7bb-4540-bc4a-af29453716f9",
   "metadata": {
    "jp-MarkdownHeadingCollapsed": true
   },
   "source": [
    "## Analisis Exploratorio"
   ]
  },
  {
   "cell_type": "markdown",
   "id": "47b2c880-1cba-43c4-86f4-48b2cdbee3b9",
   "metadata": {},
   "source": [
    "Carga y Vistazo Inicial"
   ]
  },
  {
   "cell_type": "code",
   "execution_count": 4,
   "id": "c7e6e784-01fb-4af3-bcb6-cf27b7f043fa",
   "metadata": {},
   "outputs": [
    {
     "name": "stdout",
     "output_type": "stream",
     "text": [
      "--- Información General del Dataset ---\n",
      "<class 'pandas.core.frame.DataFrame'>\n",
      "RangeIndex: 37399 entries, 0 to 37398\n",
      "Data columns (total 7 columns):\n",
      " #   Column        Non-Null Count  Dtype  \n",
      "---  ------        --------------  -----  \n",
      " 0   date          37399 non-null  object \n",
      " 1   station_name  37399 non-null  object \n",
      " 2   PRCP          9668 non-null   float64\n",
      " 3   SNWD          225 non-null    float64\n",
      " 4   TAVG          37397 non-null  float64\n",
      " 5   TMAX          19599 non-null  float64\n",
      " 6   TMIN          35148 non-null  float64\n",
      "dtypes: float64(5), object(2)\n",
      "memory usage: 2.0+ MB\n",
      "\n",
      "\n",
      "--- Primeras 5 Filas ---\n"
     ]
    },
    {
     "data": {
      "text/html": [
       "<div>\n",
       "<style scoped>\n",
       "    .dataframe tbody tr th:only-of-type {\n",
       "        vertical-align: middle;\n",
       "    }\n",
       "\n",
       "    .dataframe tbody tr th {\n",
       "        vertical-align: top;\n",
       "    }\n",
       "\n",
       "    .dataframe thead th {\n",
       "        text-align: right;\n",
       "    }\n",
       "</style>\n",
       "<table border=\"1\" class=\"dataframe\">\n",
       "  <thead>\n",
       "    <tr style=\"text-align: right;\">\n",
       "      <th></th>\n",
       "      <th>date</th>\n",
       "      <th>station_name</th>\n",
       "      <th>PRCP</th>\n",
       "      <th>SNWD</th>\n",
       "      <th>TAVG</th>\n",
       "      <th>TMAX</th>\n",
       "      <th>TMIN</th>\n",
       "    </tr>\n",
       "  </thead>\n",
       "  <tbody>\n",
       "    <tr>\n",
       "      <th>0</th>\n",
       "      <td>2000-01-01T00:00:00</td>\n",
       "      <td>MALARGUE, AR</td>\n",
       "      <td>NaN</td>\n",
       "      <td>NaN</td>\n",
       "      <td>20.8</td>\n",
       "      <td>NaN</td>\n",
       "      <td>12.7</td>\n",
       "    </tr>\n",
       "    <tr>\n",
       "      <th>1</th>\n",
       "      <td>2000-01-01T00:00:00</td>\n",
       "      <td>MENDOZA AERO, AR</td>\n",
       "      <td>NaN</td>\n",
       "      <td>NaN</td>\n",
       "      <td>24.4</td>\n",
       "      <td>32.8</td>\n",
       "      <td>17.0</td>\n",
       "    </tr>\n",
       "    <tr>\n",
       "      <th>2</th>\n",
       "      <td>2000-01-01T00:00:00</td>\n",
       "      <td>SAN MARTIN, AR</td>\n",
       "      <td>0.0</td>\n",
       "      <td>NaN</td>\n",
       "      <td>24.1</td>\n",
       "      <td>NaN</td>\n",
       "      <td>17.5</td>\n",
       "    </tr>\n",
       "    <tr>\n",
       "      <th>3</th>\n",
       "      <td>2000-01-01T00:00:00</td>\n",
       "      <td>SAN RAFAEL, AR</td>\n",
       "      <td>3.0</td>\n",
       "      <td>NaN</td>\n",
       "      <td>22.3</td>\n",
       "      <td>31.0</td>\n",
       "      <td>15.2</td>\n",
       "    </tr>\n",
       "    <tr>\n",
       "      <th>4</th>\n",
       "      <td>2000-01-02T00:00:00</td>\n",
       "      <td>MALARGUE, AR</td>\n",
       "      <td>0.0</td>\n",
       "      <td>NaN</td>\n",
       "      <td>20.8</td>\n",
       "      <td>28.9</td>\n",
       "      <td>11.4</td>\n",
       "    </tr>\n",
       "  </tbody>\n",
       "</table>\n",
       "</div>"
      ],
      "text/plain": [
       "                  date      station_name  PRCP  SNWD  TAVG  TMAX  TMIN\n",
       "0  2000-01-01T00:00:00      MALARGUE, AR   NaN   NaN  20.8   NaN  12.7\n",
       "1  2000-01-01T00:00:00  MENDOZA AERO, AR   NaN   NaN  24.4  32.8  17.0\n",
       "2  2000-01-01T00:00:00    SAN MARTIN, AR   0.0   NaN  24.1   NaN  17.5\n",
       "3  2000-01-01T00:00:00    SAN RAFAEL, AR   3.0   NaN  22.3  31.0  15.2\n",
       "4  2000-01-02T00:00:00      MALARGUE, AR   0.0   NaN  20.8  28.9  11.4"
      ]
     },
     "metadata": {},
     "output_type": "display_data"
    },
    {
     "name": "stdout",
     "output_type": "stream",
     "text": [
      "\n",
      "\n",
      "--- Resumen Estadístico (solo columnas numéricas) ---\n"
     ]
    },
    {
     "data": {
      "text/html": [
       "<div>\n",
       "<style scoped>\n",
       "    .dataframe tbody tr th:only-of-type {\n",
       "        vertical-align: middle;\n",
       "    }\n",
       "\n",
       "    .dataframe tbody tr th {\n",
       "        vertical-align: top;\n",
       "    }\n",
       "\n",
       "    .dataframe thead th {\n",
       "        text-align: right;\n",
       "    }\n",
       "</style>\n",
       "<table border=\"1\" class=\"dataframe\">\n",
       "  <thead>\n",
       "    <tr style=\"text-align: right;\">\n",
       "      <th></th>\n",
       "      <th>PRCP</th>\n",
       "      <th>SNWD</th>\n",
       "      <th>TAVG</th>\n",
       "      <th>TMAX</th>\n",
       "      <th>TMIN</th>\n",
       "    </tr>\n",
       "  </thead>\n",
       "  <tbody>\n",
       "    <tr>\n",
       "      <th>count</th>\n",
       "      <td>9668.000000</td>\n",
       "      <td>225.000000</td>\n",
       "      <td>37397.000000</td>\n",
       "      <td>19599.000000</td>\n",
       "      <td>35148.000000</td>\n",
       "    </tr>\n",
       "    <tr>\n",
       "      <th>mean</th>\n",
       "      <td>2.966922</td>\n",
       "      <td>94.226667</td>\n",
       "      <td>15.964219</td>\n",
       "      <td>24.597847</td>\n",
       "      <td>8.611156</td>\n",
       "    </tr>\n",
       "    <tr>\n",
       "      <th>std</th>\n",
       "      <td>10.291487</td>\n",
       "      <td>203.488191</td>\n",
       "      <td>7.138523</td>\n",
       "      <td>7.616639</td>\n",
       "      <td>7.048944</td>\n",
       "    </tr>\n",
       "    <tr>\n",
       "      <th>min</th>\n",
       "      <td>0.000000</td>\n",
       "      <td>10.000000</td>\n",
       "      <td>-9.600000</td>\n",
       "      <td>-1.800000</td>\n",
       "      <td>-16.000000</td>\n",
       "    </tr>\n",
       "    <tr>\n",
       "      <th>25%</th>\n",
       "      <td>0.000000</td>\n",
       "      <td>10.000000</td>\n",
       "      <td>10.300000</td>\n",
       "      <td>19.000000</td>\n",
       "      <td>3.000000</td>\n",
       "    </tr>\n",
       "    <tr>\n",
       "      <th>50%</th>\n",
       "      <td>0.000000</td>\n",
       "      <td>30.000000</td>\n",
       "      <td>16.000000</td>\n",
       "      <td>25.000000</td>\n",
       "      <td>8.500000</td>\n",
       "    </tr>\n",
       "    <tr>\n",
       "      <th>75%</th>\n",
       "      <td>2.000000</td>\n",
       "      <td>89.000000</td>\n",
       "      <td>21.700000</td>\n",
       "      <td>30.800000</td>\n",
       "      <td>14.200000</td>\n",
       "    </tr>\n",
       "    <tr>\n",
       "      <th>max</th>\n",
       "      <td>231.900000</td>\n",
       "      <td>2050.000000</td>\n",
       "      <td>36.500000</td>\n",
       "      <td>44.400000</td>\n",
       "      <td>27.400000</td>\n",
       "    </tr>\n",
       "  </tbody>\n",
       "</table>\n",
       "</div>"
      ],
      "text/plain": [
       "              PRCP         SNWD          TAVG          TMAX          TMIN\n",
       "count  9668.000000   225.000000  37397.000000  19599.000000  35148.000000\n",
       "mean      2.966922    94.226667     15.964219     24.597847      8.611156\n",
       "std      10.291487   203.488191      7.138523      7.616639      7.048944\n",
       "min       0.000000    10.000000     -9.600000     -1.800000    -16.000000\n",
       "25%       0.000000    10.000000     10.300000     19.000000      3.000000\n",
       "50%       0.000000    30.000000     16.000000     25.000000      8.500000\n",
       "75%       2.000000    89.000000     21.700000     30.800000     14.200000\n",
       "max     231.900000  2050.000000     36.500000     44.400000     27.400000"
      ]
     },
     "metadata": {},
     "output_type": "display_data"
    }
   ],
   "source": [
    "import pandas as pd\n",
    "import numpy as np\n",
    "\n",
    "# Cargamos nuestro nuevo dataset consolidado\n",
    "ruta_datos = \"../data/processed/datos_noaa_mendoza_consolidado.csv\"\n",
    "df = pd.read_csv(ruta_datos)\n",
    "\n",
    "# --- Vistazo General ---\n",
    "print(\"--- Información General del Dataset ---\")\n",
    "df.info()\n",
    "\n",
    "print(\"\\n\\n--- Primeras 5 Filas ---\")\n",
    "display(df.head())\n",
    "\n",
    "print(\"\\n\\n--- Resumen Estadístico (solo columnas numéricas) ---\")\n",
    "display(df.describe())"
   ]
  },
  {
   "cell_type": "markdown",
   "id": "7b717a5f-35b7-400c-bec9-a3fa55192040",
   "metadata": {},
   "source": [
    "Limpieza Esencial"
   ]
  },
  {
   "cell_type": "code",
   "execution_count": 5,
   "id": "b4706689-6cba-4da0-af1d-969b114e6ad2",
   "metadata": {},
   "outputs": [
    {
     "name": "stdout",
     "output_type": "stream",
     "text": [
      "Formato de la columna 'date' corregido.\n",
      "\n",
      "\n",
      "--- Conteo de Valores Faltantes por Columna ---\n",
      "SNWD    37174\n",
      "PRCP    27731\n",
      "TMAX    17800\n",
      "TMIN     2251\n",
      "TAVG        2\n",
      "dtype: int64\n"
     ]
    }
   ],
   "source": [
    "# --- Limpieza de la Columna 'date' ---\n",
    "# Convertimos la columna a formato de fecha y eliminamos la parte de la hora (T00:00:00)\n",
    "df['date'] = pd.to_datetime(df['date']).dt.date\n",
    "print(\"Formato de la columna 'date' corregido.\")\n",
    "\n",
    "# --- Análisis de Valores Faltantes ---\n",
    "print(\"\\n\\n--- Conteo de Valores Faltantes por Columna ---\")\n",
    "# Contamos cuántos valores nulos (NaN) hay en cada columna\n",
    "valores_faltantes = df.isnull().sum()\n",
    "print(valores_faltantes[valores_faltantes > 0].sort_values(ascending=False))"
   ]
  },
  {
   "cell_type": "code",
   "execution_count": null,
   "id": "6e739ca2-e0fd-432a-b7ae-d56abe420fa7",
   "metadata": {},
   "outputs": [],
   "source": [
    "Crear la Variable Objetivo"
   ]
  },
  {
   "cell_type": "code",
   "execution_count": 7,
   "id": "7de347be-8114-4acd-833c-0b8d2c1e2284",
   "metadata": {},
   "outputs": [
    {
     "name": "stdout",
     "output_type": "stream",
     "text": [
      "No se encontraron columnas de eventos (WT) en el dataset.\n",
      "¡Atención! No se encontraron columnas WT04 ni WT05. Creando columna 'granizo' con todos los valores en 0.\n",
      "\n",
      "Columna 'granizo' creada exitosamente.\n",
      "\n",
      "--- Conteo de días CON (1) y SIN (0) granizo ---\n",
      "granizo\n",
      "0    37399\n",
      "Name: count, dtype: int64\n"
     ]
    }
   ],
   "source": [
    "# Rellenamos los valores NaN en las columnas de eventos (WT) que SÍ existan.\n",
    "wt_cols = [col for col in df.columns if 'WT' in col]\n",
    "if wt_cols:\n",
    "    df[wt_cols] = df[wt_cols].fillna(0)\n",
    "    print(f\"Columnas de eventos encontradas y rellenadas: {wt_cols}\")\n",
    "else:\n",
    "    print(\"No se encontraron columnas de eventos (WT) en el dataset.\")\n",
    "\n",
    "# --- Lógica Robusta para Crear la Variable Objetivo ---\n",
    "# Verificamos la existencia de las columnas de granizo\n",
    "wt04_existe = 'WT04' in df.columns\n",
    "wt05_existe = 'WT05' in df.columns\n",
    "\n",
    "if wt04_existe and wt05_existe:\n",
    "    print(\"Se encontraron las columnas WT04 y WT05. Creando 'granizo' a partir de ambas.\")\n",
    "    df['granizo'] = ((df['WT04'] == 1.0) | (df['WT05'] == 1.0)).astype(int)\n",
    "elif wt04_existe:\n",
    "    print(\"Solo se encontró la columna WT04. Creando 'granizo' a partir de ella.\")\n",
    "    df['granizo'] = (df['WT04'] == 1.0).astype(int)\n",
    "elif wt05_existe:\n",
    "    print(\"Solo se encontró la columna WT05. Creando 'granizo' a partir de ella.\")\n",
    "    df['granizo'] = (df['WT05'] == 1.0).astype(int)\n",
    "else:\n",
    "    print(\"¡Atención! No se encontraron columnas WT04 ni WT05. Creando columna 'granizo' con todos los valores en 0.\")\n",
    "    df['granizo'] = 0\n",
    "\n",
    "print(\"\\nColumna 'granizo' creada exitosamente.\")\n",
    "\n",
    "# Verifiquemos cuántos días con granizo hemos capturado\n",
    "print(\"\\n--- Conteo de días CON (1) y SIN (0) granizo ---\")\n",
    "print(df['granizo'].value_counts())"
   ]
  },
  {
   "cell_type": "markdown",
   "id": "b85cfcf9-c115-4069-8e40-a8d1fd4c9153",
   "metadata": {},
   "source": [
    "## Web Scraping - Tu Tiempo"
   ]
  },
  {
   "cell_type": "markdown",
   "id": "6fb77e14-be17-4c74-9ba1-df4022a5bb19",
   "metadata": {},
   "source": [
    "Instalar dependencias para scrapear"
   ]
  },
  {
   "cell_type": "code",
   "execution_count": 11,
   "id": "99d298d8-ada0-4410-9b81-b82884769395",
   "metadata": {},
   "outputs": [
    {
     "name": "stdout",
     "output_type": "stream",
     "text": [
      "Collecting lxml\n",
      "  Downloading lxml-6.0.1-cp312-cp312-win_amd64.whl.metadata (3.9 kB)\n",
      "Downloading lxml-6.0.1-cp312-cp312-win_amd64.whl (4.0 MB)\n",
      "   ---------------------------------------- 0.0/4.0 MB ? eta -:--:--\n",
      "   ---------- ----------------------------- 1.0/4.0 MB 8.4 MB/s eta 0:00:01\n",
      "   ---------------------------------------- 4.0/4.0 MB 14.1 MB/s eta 0:00:00\n",
      "Installing collected packages: lxml\n",
      "Successfully installed lxml-6.0.1\n"
     ]
    },
    {
     "name": "stderr",
     "output_type": "stream",
     "text": [
      "\n",
      "[notice] A new release of pip is available: 25.0.1 -> 25.2\n",
      "[notice] To update, run: python.exe -m pip install --upgrade pip\n"
     ]
    }
   ],
   "source": [
    "!pip install lxml"
   ]
  },
  {
   "cell_type": "markdown",
   "id": "df7cfb87-e978-4d22-8460-175352111c96",
   "metadata": {},
   "source": [
    "Crear lista de estaciones mendocinas actuales o con mas datos"
   ]
  },
  {
   "cell_type": "code",
   "execution_count": 9,
   "id": "218171b9-ae89-4615-8e60-a3a860770832",
   "metadata": {},
   "outputs": [
    {
     "name": "stdout",
     "output_type": "stream",
     "text": [
      "Buscando la lista de estaciones de Mendoza...\n",
      "\n",
      "✅ Lista de estaciones preparada. La variable 'estaciones_objetivo' ya está disponible.\n",
      "Se procesarán 5 estaciones.\n"
     ]
    }
   ],
   "source": [
    "import requests\n",
    "import pandas as pd\n",
    "from dotenv import load_dotenv\n",
    "import os\n",
    "\n",
    "# --- Cargar configuración ---\n",
    "load_dotenv()\n",
    "TOKEN = os.getenv('NOAA_TOKEN')\n",
    "headers = {'token': TOKEN}\n",
    "base_url = \"https://www.ncdc.noaa.gov/cdo-web/api/v2/\"\n",
    "\n",
    "# --- Volvemos a buscar las estaciones para tener la variable que necesitamos ---\n",
    "print(\"Buscando la lista de estaciones de Mendoza...\")\n",
    "endpoint = \"stations\"\n",
    "params = {\"locationid\": \"FIPS:AR\", \"limit\": 1000}\n",
    "response = requests.get(base_url + endpoint, headers=headers, params=params)\n",
    "response.raise_for_status()\n",
    "stations_df = pd.DataFrame(response.json()['results'])\n",
    "\n",
    "# Filtramos por coordenadas geográficas\n",
    "min_lat, max_lat = -37.5, -32.0\n",
    "min_lon, max_lon = -70.5, -66.5\n",
    "mendoza_stations_geo = stations_df[\n",
    "    (stations_df['latitude'] >= min_lat) & (stations_df['latitude'] <= max_lat) &\n",
    "    (stations_df['longitude'] >= min_lon) & (stations_df['longitude'] <= max_lon)\n",
    "]\n",
    "\n",
    "# Filtramos por estaciones con datos recientes\n",
    "estaciones_recientes_df = mendoza_stations_geo[\n",
    "    pd.to_datetime(mendoza_stations_geo['maxdate']).dt.year >= 2010\n",
    "].copy()\n",
    "\n",
    "# Creamos el diccionario 'estaciones_objetivo' que necesita el script de scraping\n",
    "estaciones_objetivo = pd.Series(\n",
    "    estaciones_recientes_df.name.values, \n",
    "    index=estaciones_recientes_df.id\n",
    ").to_dict()\n",
    "\n",
    "print(\"\\n✅ Lista de estaciones preparada. La variable 'estaciones_objetivo' ya está disponible.\")\n",
    "print(f\"Se procesarán {len(estaciones_objetivo)} estaciones.\")"
   ]
  },
  {
   "cell_type": "markdown",
   "id": "15407523-a0c4-4b34-88f8-1a9b46fc39f6",
   "metadata": {},
   "source": [
    "Scraping simple para conocer estructura de la pagina"
   ]
  },
  {
   "cell_type": "code",
   "execution_count": 16,
   "id": "b3bed1fa-20a4-40ad-9962-183f438b0619",
   "metadata": {},
   "outputs": [
    {
     "name": "stdout",
     "output_type": "stream",
     "text": [
      "Iniciando scraping de diagnóstico para: https://www.tutiempo.net/clima/argentina.html\n",
      "\n",
      "✅ Título H1 encontrado: 'Datos climáticos: Argentina'\n",
      "\n",
      "✅ ¡Éxito! Se encontraron 100 links de estaciones dentro de elementos <li>.\n",
      "--- Mostrando los primeros 5 para verificar la estructura ---\n",
      "  - Nombre: AZUL AERO, Link: /clima/ws-876410.html\n",
      "  - Nombre: Azul Airport, Link: /clima/ws-876420.html\n",
      "  - Nombre: B.DE IRIGOYEN AERO, Link: /clima/ws-871630.html\n",
      "  - Nombre: Bahia Blanca Aerodrome, Link: /clima/ws-877500.html\n",
      "  - Nombre: Bariloche Aerodrome, Link: /clima/ws-877650.html\n"
     ]
    }
   ],
   "source": [
    "import requests\n",
    "from bs4 import BeautifulSoup\n",
    "\n",
    "url_diagnostico = \"https://www.tutiempo.net/clima/argentina.html\"\n",
    "\n",
    "print(f\"Iniciando scraping de diagnóstico para: {url_diagnostico}\")\n",
    "\n",
    "try:\n",
    "    response = requests.get(url_diagnostico)\n",
    "    response.raise_for_status()\n",
    "    soup = BeautifulSoup(response.content, 'lxml')\n",
    "\n",
    "    # Buscamos el título para confirmar que la página cargó bien\n",
    "    titulo_h1 = soup.find('h1')\n",
    "    if titulo_h1:\n",
    "        print(f\"\\n✅ Título H1 encontrado: '{titulo_h1.text.strip()}'\")\n",
    "    else:\n",
    "        print(\"\\n❌ No se encontró un título H1.\")\n",
    "\n",
    "    # === NUEVA LÓGICA DE BÚSQUEDA ===\n",
    "    # 1. Buscamos TODOS los elementos <li> de la página\n",
    "    todos_los_li = soup.find_all('li')\n",
    "    \n",
    "    # 2. Creamos una lista para guardar solo los que son de estaciones\n",
    "    estaciones_encontradas = []\n",
    "\n",
    "    for item_li in todos_los_li:\n",
    "        # Buscamos un link <a> dentro del <li>\n",
    "        link = item_li.find('a')\n",
    "        \n",
    "        # Verificamos si encontramos un link y si su 'href' parece ser de una estación\n",
    "        if link and 'href' in link.attrs and '/clima/ws-' in link['href']:\n",
    "            estaciones_encontradas.append(link)\n",
    "\n",
    "    # 3. Reportamos el resultado\n",
    "    if estaciones_encontradas:\n",
    "        print(f\"\\n✅ ¡Éxito! Se encontraron {len(estaciones_encontradas)} links de estaciones dentro de elementos <li>.\")\n",
    "        print(\"--- Mostrando los primeros 5 para verificar la estructura ---\")\n",
    "        for i, link_estacion in enumerate(estaciones_encontradas):\n",
    "            if i < 5:\n",
    "                nombre = link_estacion.text.strip()\n",
    "                href = link_estacion['href']\n",
    "                print(f\"  - Nombre: {nombre}, Link: {href}\")\n",
    "    else:\n",
    "        print(\"\\n❌ No se encontraron links de estaciones dentro de ningún elemento <li>.\")\n",
    "\n",
    "except Exception as e:\n",
    "    print(f\"\\n❌ Ocurrió un error general durante el scraping: {e}\")"
   ]
  },
  {
   "cell_type": "markdown",
   "id": "5d779f64-1030-44e1-94fb-0d5db09074bc",
   "metadata": {},
   "source": [
    "Scraping completo por links relevantes"
   ]
  },
  {
   "cell_type": "code",
   "execution_count": 20,
   "id": "d6b07d40-47a0-4164-84eb-c3d18de124eb",
   "metadata": {},
   "outputs": [
    {
     "name": "stdout",
     "output_type": "stream",
     "text": [
      "Buscando los links de las 5 estaciones de Mendoza...\n",
      "\n",
      "✅ Se encontraron 5 links para las estaciones de Mendoza.\n",
      "\n",
      "--- Analizando la estructura de las tablas anuales ---\n",
      "\n",
      "Visitando: Malargue Aerodrome (https://www.tutiempo.net/clima/ws-875060.html)\n",
      "✅ Tabla encontrada para Malargue Aerodrome. Mostrando las primeras 5 filas:\n"
     ]
    },
    {
     "data": {
      "text/html": [
       "<div>\n",
       "<style scoped>\n",
       "    .dataframe tbody tr th:only-of-type {\n",
       "        vertical-align: middle;\n",
       "    }\n",
       "\n",
       "    .dataframe tbody tr th {\n",
       "        vertical-align: top;\n",
       "    }\n",
       "\n",
       "    .dataframe thead th {\n",
       "        text-align: right;\n",
       "    }\n",
       "</style>\n",
       "<table border=\"1\" class=\"dataframe\">\n",
       "  <thead>\n",
       "    <tr style=\"text-align: right;\">\n",
       "      <th></th>\n",
       "      <th>Año</th>\n",
       "      <th>T</th>\n",
       "      <th>TM</th>\n",
       "      <th>Tm</th>\n",
       "      <th>PP</th>\n",
       "      <th>V</th>\n",
       "      <th>RA</th>\n",
       "      <th>SN</th>\n",
       "      <th>TS</th>\n",
       "      <th>FG</th>\n",
       "      <th>TN</th>\n",
       "      <th>GR</th>\n",
       "    </tr>\n",
       "  </thead>\n",
       "  <tbody>\n",
       "    <tr>\n",
       "      <th>0</th>\n",
       "      <td>1967</td>\n",
       "      <td>-</td>\n",
       "      <td>-</td>\n",
       "      <td>-</td>\n",
       "      <td>-</td>\n",
       "      <td>-</td>\n",
       "      <td>-</td>\n",
       "      <td>-</td>\n",
       "      <td>-</td>\n",
       "      <td>-</td>\n",
       "      <td>-</td>\n",
       "      <td>-</td>\n",
       "    </tr>\n",
       "    <tr>\n",
       "      <th>1</th>\n",
       "      <td>1968</td>\n",
       "      <td>-</td>\n",
       "      <td>-</td>\n",
       "      <td>-</td>\n",
       "      <td>-</td>\n",
       "      <td>-</td>\n",
       "      <td>-</td>\n",
       "      <td>-</td>\n",
       "      <td>-</td>\n",
       "      <td>-</td>\n",
       "      <td>-</td>\n",
       "      <td>-</td>\n",
       "    </tr>\n",
       "    <tr>\n",
       "      <th>2</th>\n",
       "      <td>1973</td>\n",
       "      <td>-</td>\n",
       "      <td>-</td>\n",
       "      <td>-</td>\n",
       "      <td>-</td>\n",
       "      <td>-</td>\n",
       "      <td>-</td>\n",
       "      <td>-</td>\n",
       "      <td>-</td>\n",
       "      <td>-</td>\n",
       "      <td>-</td>\n",
       "      <td>-</td>\n",
       "    </tr>\n",
       "    <tr>\n",
       "      <th>3</th>\n",
       "      <td>1974</td>\n",
       "      <td>14.6</td>\n",
       "      <td>19.1</td>\n",
       "      <td>5.2</td>\n",
       "      <td>-</td>\n",
       "      <td>6</td>\n",
       "      <td>49</td>\n",
       "      <td>12</td>\n",
       "      <td>9</td>\n",
       "      <td>10</td>\n",
       "      <td>0</td>\n",
       "      <td>3</td>\n",
       "    </tr>\n",
       "    <tr>\n",
       "      <th>4</th>\n",
       "      <td>1975</td>\n",
       "      <td>14.4</td>\n",
       "      <td>19</td>\n",
       "      <td>-</td>\n",
       "      <td>-</td>\n",
       "      <td>5.8</td>\n",
       "      <td>42</td>\n",
       "      <td>19</td>\n",
       "      <td>17</td>\n",
       "      <td>12</td>\n",
       "      <td>1</td>\n",
       "      <td>0</td>\n",
       "    </tr>\n",
       "  </tbody>\n",
       "</table>\n",
       "</div>"
      ],
      "text/plain": [
       "    Año     T    TM   Tm PP    V  RA  SN  TS  FG TN GR\n",
       "0  1967     -     -    -  -    -   -   -   -   -  -  -\n",
       "1  1968     -     -    -  -    -   -   -   -   -  -  -\n",
       "2  1973     -     -    -  -    -   -   -   -   -  -  -\n",
       "3  1974  14.6  19.1  5.2  -    6  49  12   9  10  0  3\n",
       "4  1975  14.4    19    -  -  5.8  42  19  17  12  1  0"
      ]
     },
     "metadata": {},
     "output_type": "display_data"
    },
    {
     "name": "stdout",
     "output_type": "stream",
     "text": [
      "\n",
      "Visitando: Mendoza Aerodrome (https://www.tutiempo.net/clima/ws-874180.html)\n",
      "✅ Tabla encontrada para Mendoza Aerodrome. Mostrando las primeras 5 filas:\n"
     ]
    },
    {
     "data": {
      "text/html": [
       "<div>\n",
       "<style scoped>\n",
       "    .dataframe tbody tr th:only-of-type {\n",
       "        vertical-align: middle;\n",
       "    }\n",
       "\n",
       "    .dataframe tbody tr th {\n",
       "        vertical-align: top;\n",
       "    }\n",
       "\n",
       "    .dataframe thead th {\n",
       "        text-align: right;\n",
       "    }\n",
       "</style>\n",
       "<table border=\"1\" class=\"dataframe\">\n",
       "  <thead>\n",
       "    <tr style=\"text-align: right;\">\n",
       "      <th></th>\n",
       "      <th>Año</th>\n",
       "      <th>T</th>\n",
       "      <th>TM</th>\n",
       "      <th>Tm</th>\n",
       "      <th>PP</th>\n",
       "      <th>V</th>\n",
       "      <th>RA</th>\n",
       "      <th>SN</th>\n",
       "      <th>TS</th>\n",
       "      <th>FG</th>\n",
       "      <th>TN</th>\n",
       "      <th>GR</th>\n",
       "    </tr>\n",
       "  </thead>\n",
       "  <tbody>\n",
       "    <tr>\n",
       "      <th>0</th>\n",
       "      <td>1957</td>\n",
       "      <td>-</td>\n",
       "      <td>-</td>\n",
       "      <td>-</td>\n",
       "      <td>-</td>\n",
       "      <td>-</td>\n",
       "      <td>-</td>\n",
       "      <td>-</td>\n",
       "      <td>-</td>\n",
       "      <td>-</td>\n",
       "      <td>-</td>\n",
       "      <td>-</td>\n",
       "    </tr>\n",
       "    <tr>\n",
       "      <th>1</th>\n",
       "      <td>1958</td>\n",
       "      <td>16.3</td>\n",
       "      <td>-</td>\n",
       "      <td>11.8</td>\n",
       "      <td>-</td>\n",
       "      <td>3.7</td>\n",
       "      <td>28</td>\n",
       "      <td>0</td>\n",
       "      <td>5</td>\n",
       "      <td>0</td>\n",
       "      <td>0</td>\n",
       "      <td>0</td>\n",
       "    </tr>\n",
       "    <tr>\n",
       "      <th>2</th>\n",
       "      <td>1965</td>\n",
       "      <td>-</td>\n",
       "      <td>-</td>\n",
       "      <td>-</td>\n",
       "      <td>-</td>\n",
       "      <td>-</td>\n",
       "      <td>-</td>\n",
       "      <td>-</td>\n",
       "      <td>-</td>\n",
       "      <td>-</td>\n",
       "      <td>-</td>\n",
       "      <td>-</td>\n",
       "    </tr>\n",
       "    <tr>\n",
       "      <th>3</th>\n",
       "      <td>1966</td>\n",
       "      <td>-</td>\n",
       "      <td>-</td>\n",
       "      <td>-</td>\n",
       "      <td>-</td>\n",
       "      <td>-</td>\n",
       "      <td>-</td>\n",
       "      <td>-</td>\n",
       "      <td>-</td>\n",
       "      <td>-</td>\n",
       "      <td>-</td>\n",
       "      <td>-</td>\n",
       "    </tr>\n",
       "    <tr>\n",
       "      <th>4</th>\n",
       "      <td>1967</td>\n",
       "      <td>-</td>\n",
       "      <td>-</td>\n",
       "      <td>-</td>\n",
       "      <td>-</td>\n",
       "      <td>-</td>\n",
       "      <td>-</td>\n",
       "      <td>-</td>\n",
       "      <td>-</td>\n",
       "      <td>-</td>\n",
       "      <td>-</td>\n",
       "      <td>-</td>\n",
       "    </tr>\n",
       "  </tbody>\n",
       "</table>\n",
       "</div>"
      ],
      "text/plain": [
       "    Año     T TM    Tm PP    V  RA SN TS FG TN GR\n",
       "0  1957     -  -     -  -    -   -  -  -  -  -  -\n",
       "1  1958  16.3  -  11.8  -  3.7  28  0  5  0  0  0\n",
       "2  1965     -  -     -  -    -   -  -  -  -  -  -\n",
       "3  1966     -  -     -  -    -   -  -  -  -  -  -\n",
       "4  1967     -  -     -  -    -   -  -  -  -  -  -"
      ]
     },
     "metadata": {},
     "output_type": "display_data"
    },
    {
     "name": "stdout",
     "output_type": "stream",
     "text": [
      "\n",
      "Visitando: MENDOZA OBSERVATORI (https://www.tutiempo.net/clima/ws-874200.html)\n",
      "✅ Tabla encontrada para MENDOZA OBSERVATORI. Mostrando las primeras 5 filas:\n"
     ]
    },
    {
     "data": {
      "text/html": [
       "<div>\n",
       "<style scoped>\n",
       "    .dataframe tbody tr th:only-of-type {\n",
       "        vertical-align: middle;\n",
       "    }\n",
       "\n",
       "    .dataframe tbody tr th {\n",
       "        vertical-align: top;\n",
       "    }\n",
       "\n",
       "    .dataframe thead th {\n",
       "        text-align: right;\n",
       "    }\n",
       "</style>\n",
       "<table border=\"1\" class=\"dataframe\">\n",
       "  <thead>\n",
       "    <tr style=\"text-align: right;\">\n",
       "      <th></th>\n",
       "      <th>Año</th>\n",
       "      <th>T</th>\n",
       "      <th>TM</th>\n",
       "      <th>Tm</th>\n",
       "      <th>PP</th>\n",
       "      <th>V</th>\n",
       "      <th>RA</th>\n",
       "      <th>SN</th>\n",
       "      <th>TS</th>\n",
       "      <th>FG</th>\n",
       "      <th>TN</th>\n",
       "      <th>GR</th>\n",
       "    </tr>\n",
       "  </thead>\n",
       "  <tbody>\n",
       "    <tr>\n",
       "      <th>0</th>\n",
       "      <td>1973</td>\n",
       "      <td>-</td>\n",
       "      <td>-</td>\n",
       "      <td>-</td>\n",
       "      <td>-</td>\n",
       "      <td>-</td>\n",
       "      <td>-</td>\n",
       "      <td>-</td>\n",
       "      <td>-</td>\n",
       "      <td>-</td>\n",
       "      <td>-</td>\n",
       "      <td>-</td>\n",
       "    </tr>\n",
       "    <tr>\n",
       "      <th>1</th>\n",
       "      <td>1974</td>\n",
       "      <td>-</td>\n",
       "      <td>-</td>\n",
       "      <td>-</td>\n",
       "      <td>-</td>\n",
       "      <td>-</td>\n",
       "      <td>-</td>\n",
       "      <td>-</td>\n",
       "      <td>-</td>\n",
       "      <td>-</td>\n",
       "      <td>-</td>\n",
       "      <td>-</td>\n",
       "    </tr>\n",
       "    <tr>\n",
       "      <th>2</th>\n",
       "      <td>1975</td>\n",
       "      <td>-</td>\n",
       "      <td>-</td>\n",
       "      <td>-</td>\n",
       "      <td>-</td>\n",
       "      <td>-</td>\n",
       "      <td>-</td>\n",
       "      <td>-</td>\n",
       "      <td>-</td>\n",
       "      <td>-</td>\n",
       "      <td>-</td>\n",
       "      <td>-</td>\n",
       "    </tr>\n",
       "    <tr>\n",
       "      <th>3</th>\n",
       "      <td>1976</td>\n",
       "      <td>-</td>\n",
       "      <td>-</td>\n",
       "      <td>-</td>\n",
       "      <td>-</td>\n",
       "      <td>-</td>\n",
       "      <td>-</td>\n",
       "      <td>-</td>\n",
       "      <td>-</td>\n",
       "      <td>-</td>\n",
       "      <td>-</td>\n",
       "      <td>-</td>\n",
       "    </tr>\n",
       "    <tr>\n",
       "      <th>4</th>\n",
       "      <td>1977</td>\n",
       "      <td>-</td>\n",
       "      <td>-</td>\n",
       "      <td>-</td>\n",
       "      <td>-</td>\n",
       "      <td>-</td>\n",
       "      <td>-</td>\n",
       "      <td>-</td>\n",
       "      <td>-</td>\n",
       "      <td>-</td>\n",
       "      <td>-</td>\n",
       "      <td>-</td>\n",
       "    </tr>\n",
       "  </tbody>\n",
       "</table>\n",
       "</div>"
      ],
      "text/plain": [
       "    Año  T TM Tm PP  V RA SN TS FG TN GR\n",
       "0  1973  -  -  -  -  -  -  -  -  -  -  -\n",
       "1  1974  -  -  -  -  -  -  -  -  -  -  -\n",
       "2  1975  -  -  -  -  -  -  -  -  -  -  -\n",
       "3  1976  -  -  -  -  -  -  -  -  -  -  -\n",
       "4  1977  -  -  -  -  -  -  -  -  -  -  -"
      ]
     },
     "metadata": {},
     "output_type": "display_data"
    },
    {
     "name": "stdout",
     "output_type": "stream",
     "text": [
      "\n",
      "Visitando: San Martin (https://www.tutiempo.net/clima/ws-874160.html)\n",
      "✅ Tabla encontrada para San Martin. Mostrando las primeras 5 filas:\n"
     ]
    },
    {
     "data": {
      "text/html": [
       "<div>\n",
       "<style scoped>\n",
       "    .dataframe tbody tr th:only-of-type {\n",
       "        vertical-align: middle;\n",
       "    }\n",
       "\n",
       "    .dataframe tbody tr th {\n",
       "        vertical-align: top;\n",
       "    }\n",
       "\n",
       "    .dataframe thead th {\n",
       "        text-align: right;\n",
       "    }\n",
       "</style>\n",
       "<table border=\"1\" class=\"dataframe\">\n",
       "  <thead>\n",
       "    <tr style=\"text-align: right;\">\n",
       "      <th></th>\n",
       "      <th>Año</th>\n",
       "      <th>T</th>\n",
       "      <th>TM</th>\n",
       "      <th>Tm</th>\n",
       "      <th>PP</th>\n",
       "      <th>V</th>\n",
       "      <th>RA</th>\n",
       "      <th>SN</th>\n",
       "      <th>TS</th>\n",
       "      <th>FG</th>\n",
       "      <th>TN</th>\n",
       "      <th>GR</th>\n",
       "    </tr>\n",
       "  </thead>\n",
       "  <tbody>\n",
       "    <tr>\n",
       "      <th>0</th>\n",
       "      <td>1973</td>\n",
       "      <td>-</td>\n",
       "      <td>-</td>\n",
       "      <td>-</td>\n",
       "      <td>-</td>\n",
       "      <td>-</td>\n",
       "      <td>-</td>\n",
       "      <td>-</td>\n",
       "      <td>-</td>\n",
       "      <td>-</td>\n",
       "      <td>-</td>\n",
       "      <td>-</td>\n",
       "    </tr>\n",
       "    <tr>\n",
       "      <th>1</th>\n",
       "      <td>1974</td>\n",
       "      <td>-</td>\n",
       "      <td>-</td>\n",
       "      <td>-</td>\n",
       "      <td>-</td>\n",
       "      <td>-</td>\n",
       "      <td>-</td>\n",
       "      <td>-</td>\n",
       "      <td>-</td>\n",
       "      <td>-</td>\n",
       "      <td>-</td>\n",
       "      <td>-</td>\n",
       "    </tr>\n",
       "    <tr>\n",
       "      <th>2</th>\n",
       "      <td>1975</td>\n",
       "      <td>-</td>\n",
       "      <td>-</td>\n",
       "      <td>-</td>\n",
       "      <td>-</td>\n",
       "      <td>-</td>\n",
       "      <td>-</td>\n",
       "      <td>-</td>\n",
       "      <td>-</td>\n",
       "      <td>-</td>\n",
       "      <td>-</td>\n",
       "      <td>-</td>\n",
       "    </tr>\n",
       "    <tr>\n",
       "      <th>3</th>\n",
       "      <td>1976</td>\n",
       "      <td>-</td>\n",
       "      <td>-</td>\n",
       "      <td>-</td>\n",
       "      <td>-</td>\n",
       "      <td>-</td>\n",
       "      <td>-</td>\n",
       "      <td>-</td>\n",
       "      <td>-</td>\n",
       "      <td>-</td>\n",
       "      <td>-</td>\n",
       "      <td>-</td>\n",
       "    </tr>\n",
       "    <tr>\n",
       "      <th>4</th>\n",
       "      <td>1977</td>\n",
       "      <td>-</td>\n",
       "      <td>-</td>\n",
       "      <td>-</td>\n",
       "      <td>-</td>\n",
       "      <td>-</td>\n",
       "      <td>-</td>\n",
       "      <td>-</td>\n",
       "      <td>-</td>\n",
       "      <td>-</td>\n",
       "      <td>-</td>\n",
       "      <td>-</td>\n",
       "    </tr>\n",
       "  </tbody>\n",
       "</table>\n",
       "</div>"
      ],
      "text/plain": [
       "    Año  T TM Tm PP  V RA SN TS FG TN GR\n",
       "0  1973  -  -  -  -  -  -  -  -  -  -  -\n",
       "1  1974  -  -  -  -  -  -  -  -  -  -  -\n",
       "2  1975  -  -  -  -  -  -  -  -  -  -  -\n",
       "3  1976  -  -  -  -  -  -  -  -  -  -  -\n",
       "4  1977  -  -  -  -  -  -  -  -  -  -  -"
      ]
     },
     "metadata": {},
     "output_type": "display_data"
    },
    {
     "name": "stdout",
     "output_type": "stream",
     "text": [
      "\n",
      "Visitando: San Rafael Aerodrome (https://www.tutiempo.net/clima/ws-875090.html)\n",
      "✅ Tabla encontrada para San Rafael Aerodrome. Mostrando las primeras 5 filas:\n"
     ]
    },
    {
     "data": {
      "text/html": [
       "<div>\n",
       "<style scoped>\n",
       "    .dataframe tbody tr th:only-of-type {\n",
       "        vertical-align: middle;\n",
       "    }\n",
       "\n",
       "    .dataframe tbody tr th {\n",
       "        vertical-align: top;\n",
       "    }\n",
       "\n",
       "    .dataframe thead th {\n",
       "        text-align: right;\n",
       "    }\n",
       "</style>\n",
       "<table border=\"1\" class=\"dataframe\">\n",
       "  <thead>\n",
       "    <tr style=\"text-align: right;\">\n",
       "      <th></th>\n",
       "      <th>Año</th>\n",
       "      <th>T</th>\n",
       "      <th>TM</th>\n",
       "      <th>Tm</th>\n",
       "      <th>PP</th>\n",
       "      <th>V</th>\n",
       "      <th>RA</th>\n",
       "      <th>SN</th>\n",
       "      <th>TS</th>\n",
       "      <th>FG</th>\n",
       "      <th>TN</th>\n",
       "      <th>GR</th>\n",
       "    </tr>\n",
       "  </thead>\n",
       "  <tbody>\n",
       "    <tr>\n",
       "      <th>0</th>\n",
       "      <td>1973</td>\n",
       "      <td>-</td>\n",
       "      <td>-</td>\n",
       "      <td>-</td>\n",
       "      <td>-</td>\n",
       "      <td>-</td>\n",
       "      <td>-</td>\n",
       "      <td>-</td>\n",
       "      <td>-</td>\n",
       "      <td>-</td>\n",
       "      <td>-</td>\n",
       "      <td>-</td>\n",
       "    </tr>\n",
       "    <tr>\n",
       "      <th>1</th>\n",
       "      <td>1974</td>\n",
       "      <td>17.2</td>\n",
       "      <td>22.9</td>\n",
       "      <td>8.3</td>\n",
       "      <td>-</td>\n",
       "      <td>6.4</td>\n",
       "      <td>50</td>\n",
       "      <td>4</td>\n",
       "      <td>35</td>\n",
       "      <td>5</td>\n",
       "      <td>0</td>\n",
       "      <td>3</td>\n",
       "    </tr>\n",
       "    <tr>\n",
       "      <th>2</th>\n",
       "      <td>1975</td>\n",
       "      <td>-</td>\n",
       "      <td>-</td>\n",
       "      <td>-</td>\n",
       "      <td>-</td>\n",
       "      <td>-</td>\n",
       "      <td>63</td>\n",
       "      <td>7</td>\n",
       "      <td>26</td>\n",
       "      <td>3</td>\n",
       "      <td>0</td>\n",
       "      <td>2</td>\n",
       "    </tr>\n",
       "    <tr>\n",
       "      <th>3</th>\n",
       "      <td>1976</td>\n",
       "      <td>17</td>\n",
       "      <td>22.5</td>\n",
       "      <td>7.5</td>\n",
       "      <td>-</td>\n",
       "      <td>5.9</td>\n",
       "      <td>68</td>\n",
       "      <td>8</td>\n",
       "      <td>33</td>\n",
       "      <td>6</td>\n",
       "      <td>0</td>\n",
       "      <td>7</td>\n",
       "    </tr>\n",
       "    <tr>\n",
       "      <th>4</th>\n",
       "      <td>1977</td>\n",
       "      <td>17.7</td>\n",
       "      <td>23.6</td>\n",
       "      <td>9</td>\n",
       "      <td>369.33</td>\n",
       "      <td>5.2</td>\n",
       "      <td>48</td>\n",
       "      <td>4</td>\n",
       "      <td>22</td>\n",
       "      <td>4</td>\n",
       "      <td>0</td>\n",
       "      <td>1</td>\n",
       "    </tr>\n",
       "  </tbody>\n",
       "</table>\n",
       "</div>"
      ],
      "text/plain": [
       "    Año     T    TM   Tm      PP    V  RA SN  TS FG TN GR\n",
       "0  1973     -     -    -       -    -   -  -   -  -  -  -\n",
       "1  1974  17.2  22.9  8.3       -  6.4  50  4  35  5  0  3\n",
       "2  1975     -     -    -       -    -  63  7  26  3  0  2\n",
       "3  1976    17  22.5  7.5       -  5.9  68  8  33  6  0  7\n",
       "4  1977  17.7  23.6    9  369.33  5.2  48  4  22  4  0  1"
      ]
     },
     "metadata": {},
     "output_type": "display_data"
    }
   ],
   "source": [
    "import requests\n",
    "import pandas as pd\n",
    "from bs4 import BeautifulSoup\n",
    "import time\n",
    "\n",
    "# --- FASE 1: Encontrar los links de nuestras 5 estaciones objetivo ---\n",
    "\n",
    "# Lista de los nombres de las estaciones que nos interesan\n",
    "nombres_estaciones_mendoza = [\n",
    "    \"Mendoza Aerodrome\",\n",
    "    \"Mendoza Observatori\",\n",
    "    \"San Martin\",\n",
    "    \"Malargue Aerodrome\",\n",
    "    \"San Rafael Aerodrome\"\n",
    "]\n",
    "\n",
    "# Diccionario para guardar los links que encontremos\n",
    "links_mendoza = {}\n",
    "\n",
    "urls_lista_estaciones = [\n",
    "    \"https://www.tutiempo.net/clima/argentina.html\",\n",
    "    \"https://www.tutiempo.net/clima/argentina/2/\"\n",
    "]\n",
    "\n",
    "print(\"Buscando los links de las 5 estaciones de Mendoza...\")\n",
    "for url in urls_lista_estaciones:\n",
    "    try:\n",
    "        response = requests.get(url)\n",
    "        soup = BeautifulSoup(response.content, 'lxml')\n",
    "        todos_los_li = soup.find_all('li')\n",
    "        \n",
    "        for item_li in todos_los_li:\n",
    "            link = item_li.find('a')\n",
    "            if link and 'href' in link.attrs:\n",
    "                nombre_estacion = link.text.strip()\n",
    "                # Verificamos si el nombre de la estación está en nuestra lista de interés\n",
    "                for nombre_buscado in nombres_estaciones_mendoza:\n",
    "                    if nombre_buscado.lower() in nombre_estacion.lower():\n",
    "                        links_mendoza[nombre_estacion] = \"https://www.tutiempo.net\" + link['href']\n",
    "    except Exception as e:\n",
    "        print(f\"Error procesando la lista de estaciones en {url}: {e}\")\n",
    "\n",
    "print(f\"\\n✅ Se encontraron {len(links_mendoza)} links para las estaciones de Mendoza.\")\n",
    "\n",
    "\n",
    "# --- FASE 2: Visitar cada link y mostrar la tabla de resumen ---\n",
    "\n",
    "print(\"\\n--- Analizando la estructura de las tablas anuales ---\")\n",
    "for nombre, url_estacion in links_mendoza.items():\n",
    "    print(f\"\\nVisitando: {nombre} ({url_estacion})\")\n",
    "    try:\n",
    "        # Usamos pd.read_html para buscar las tablas en la página de la estación\n",
    "        tablas_estacion = pd.read_html(url_estacion)\n",
    "        \n",
    "        # Asumimos que la tabla de resumen es la anteúltima\n",
    "        df_resumen_anual = tablas_estacion[-2]\n",
    "        \n",
    "        print(f\"✅ Tabla encontrada para {nombre}. Mostrando las primeras 5 filas:\")\n",
    "        display(df_resumen_anual.head())\n",
    "        \n",
    "    except Exception as e:\n",
    "        print(f\"❌ No se pudo procesar la tabla para {nombre}. Error: {e}\")\n",
    "    \n",
    "    time.sleep(1)"
   ]
  },
  {
   "cell_type": "markdown",
   "id": "709104ab-16aa-492f-82ae-9947067e4948",
   "metadata": {},
   "source": [
    "Descarga de tablas completas para estaciones de interes"
   ]
  },
  {
   "cell_type": "code",
   "execution_count": 34,
   "id": "43d4ee59-ba07-41b2-a688-fe12fbff11f5",
   "metadata": {},
   "outputs": [
    {
     "name": "stdout",
     "output_type": "stream",
     "text": [
      "--- Extrayendo la Hotlist de Años con Granizo ---\n",
      "\n",
      "Procesando: Malargue Aerodrome...\n",
      "  -> ¡Años con granizo encontrados!\n",
      "\n",
      "Procesando: Mendoza Aerodrome...\n",
      "  -> ¡Años con granizo encontrados!\n",
      "\n",
      "Procesando: MENDOZA OBSERVATORI...\n",
      "  -> ¡Años con granizo encontrados!\n",
      "\n",
      "Procesando: San Martin...\n",
      "  -> ¡Años con granizo encontrados!\n",
      "\n",
      "Procesando: San Rafael Aerodrome...\n",
      "  -> ¡Años con granizo encontrados!\n",
      "\n",
      "\n",
      "✅ --- Hotlist de Años a Investigar ---\n"
     ]
    },
    {
     "data": {
      "text/html": [
       "<div>\n",
       "<style scoped>\n",
       "    .dataframe tbody tr th:only-of-type {\n",
       "        vertical-align: middle;\n",
       "    }\n",
       "\n",
       "    .dataframe tbody tr th {\n",
       "        vertical-align: top;\n",
       "    }\n",
       "\n",
       "    .dataframe thead th {\n",
       "        text-align: right;\n",
       "    }\n",
       "</style>\n",
       "<table border=\"1\" class=\"dataframe\">\n",
       "  <thead>\n",
       "    <tr style=\"text-align: right;\">\n",
       "      <th></th>\n",
       "      <th>station_name</th>\n",
       "      <th>año</th>\n",
       "      <th>eventos_reportados</th>\n",
       "    </tr>\n",
       "  </thead>\n",
       "  <tbody>\n",
       "    <tr>\n",
       "      <th>61</th>\n",
       "      <td>MENDOZA OBSERVATORI</td>\n",
       "      <td>2020</td>\n",
       "      <td>1</td>\n",
       "    </tr>\n",
       "    <tr>\n",
       "      <th>62</th>\n",
       "      <td>MENDOZA OBSERVATORI</td>\n",
       "      <td>2021</td>\n",
       "      <td>1</td>\n",
       "    </tr>\n",
       "    <tr>\n",
       "      <th>63</th>\n",
       "      <td>MENDOZA OBSERVATORI</td>\n",
       "      <td>2022</td>\n",
       "      <td>1</td>\n",
       "    </tr>\n",
       "    <tr>\n",
       "      <th>64</th>\n",
       "      <td>MENDOZA OBSERVATORI</td>\n",
       "      <td>2023</td>\n",
       "      <td>1</td>\n",
       "    </tr>\n",
       "    <tr>\n",
       "      <th>65</th>\n",
       "      <td>MENDOZA OBSERVATORI</td>\n",
       "      <td>2024</td>\n",
       "      <td>1</td>\n",
       "    </tr>\n",
       "    <tr>\n",
       "      <th>...</th>\n",
       "      <td>...</td>\n",
       "      <td>...</td>\n",
       "      <td>...</td>\n",
       "    </tr>\n",
       "    <tr>\n",
       "      <th>95</th>\n",
       "      <td>San Rafael Aerodrome</td>\n",
       "      <td>2020</td>\n",
       "      <td>3</td>\n",
       "    </tr>\n",
       "    <tr>\n",
       "      <th>96</th>\n",
       "      <td>San Rafael Aerodrome</td>\n",
       "      <td>2021</td>\n",
       "      <td>5</td>\n",
       "    </tr>\n",
       "    <tr>\n",
       "      <th>97</th>\n",
       "      <td>San Rafael Aerodrome</td>\n",
       "      <td>2022</td>\n",
       "      <td>2</td>\n",
       "    </tr>\n",
       "    <tr>\n",
       "      <th>98</th>\n",
       "      <td>San Rafael Aerodrome</td>\n",
       "      <td>2023</td>\n",
       "      <td>1</td>\n",
       "    </tr>\n",
       "    <tr>\n",
       "      <th>99</th>\n",
       "      <td>San Rafael Aerodrome</td>\n",
       "      <td>2024</td>\n",
       "      <td>2</td>\n",
       "    </tr>\n",
       "  </tbody>\n",
       "</table>\n",
       "<p>100 rows × 3 columns</p>\n",
       "</div>"
      ],
      "text/plain": [
       "            station_name   año  eventos_reportados\n",
       "61   MENDOZA OBSERVATORI  2020                   1\n",
       "62   MENDOZA OBSERVATORI  2021                   1\n",
       "63   MENDOZA OBSERVATORI  2022                   1\n",
       "64   MENDOZA OBSERVATORI  2023                   1\n",
       "65   MENDOZA OBSERVATORI  2024                   1\n",
       "..                   ...   ...                 ...\n",
       "95  San Rafael Aerodrome  2020                   3\n",
       "96  San Rafael Aerodrome  2021                   5\n",
       "97  San Rafael Aerodrome  2022                   2\n",
       "98  San Rafael Aerodrome  2023                   1\n",
       "99  San Rafael Aerodrome  2024                   2\n",
       "\n",
       "[100 rows x 3 columns]"
      ]
     },
     "metadata": {},
     "output_type": "display_data"
    }
   ],
   "source": [
    "import requests\n",
    "import pandas as pd\n",
    "from bs4 import BeautifulSoup\n",
    "import time\n",
    "\n",
    "# --- (Fase 1: Encontrar los links - sin cambios) ---\n",
    "nombres_estaciones_mendoza = [\n",
    "    \"Mendoza Aerodrome\", \"Mendoza Observatori\", \"San Martin\", \n",
    "    \"Malargue Aerodrome\", \"San Rafael Aerodrome\"\n",
    "]\n",
    "links_mendoza = {}\n",
    "urls_lista_estaciones = [\n",
    "    \"https://www.tutiempo.net/clima/argentina.html\",\n",
    "    \"https://www.tutiempo.net/clima/argentina/2/\"\n",
    "]\n",
    "\n",
    "for url in urls_lista_estaciones:\n",
    "    try:\n",
    "        response = requests.get(url)\n",
    "        soup = BeautifulSoup(response.content, 'lxml')\n",
    "        todos_los_li = soup.find_all('li')\n",
    "        for item_li in todos_los_li:\n",
    "            link = item_li.find('a')\n",
    "            if link and 'href' in link.attrs:\n",
    "                nombre_estacion = link.text.strip()\n",
    "                for nombre_buscado in nombres_estaciones_mendoza:\n",
    "                    if nombre_buscado.lower() in nombre_estacion.lower():\n",
    "                        links_mendoza[nombre_estacion] = \"https://www.tutiempo.net\" + link['href']\n",
    "    except Exception as e:\n",
    "        print(f\"Error procesando la lista de estaciones en {url}: {e}\")\n",
    "\n",
    "# --- FASE 2: Extraer la \"Hotlist\" de Años (Versión Robusta) ---\n",
    "\n",
    "hotlist_granizo = []\n",
    "print(\"--- Extrayendo la Hotlist de Años con Granizo ---\")\n",
    "\n",
    "for nombre, url_estacion in links_mendoza.items():\n",
    "    print(f\"\\nProcesando: {nombre}...\")\n",
    "    try:\n",
    "        tablas_estacion = pd.read_html(url_estacion)\n",
    "        df_anual = tablas_estacion[-2]\n",
    "\n",
    "        if 'GR' in df_anual.columns:\n",
    "            # === PASO DE LIMPIEZA CLAVE ===\n",
    "            # Convertimos la columna 'GR' a números. Los valores que no son números (como '-') se convertirán en NaN.\n",
    "            df_anual['GR'] = pd.to_numeric(df_anual['GR'], errors='coerce')\n",
    "            # Rellenamos los NaN con 0 para poder comparar.\n",
    "            df_anual['GR'] = df_anual['GR'].fillna(0)\n",
    "\n",
    "            # Ahora el filtro funciona de forma segura\n",
    "            años_con_granizo = df_anual[df_anual['GR'] > 0]\n",
    "            \n",
    "            if not años_con_granizo.empty:\n",
    "                print(f\"  -> ¡Años con granizo encontrados!\")\n",
    "                for index, row in años_con_granizo.iterrows():\n",
    "                    hotlist_granizo.append({\n",
    "                        'station_name': nombre,\n",
    "                        'año': int(row['Año']),\n",
    "                        'eventos_reportados': int(row['GR'])\n",
    "                    })\n",
    "            else:\n",
    "                print(\"  -> Sin eventos de granizo reportados en el resumen anual.\")\n",
    "        else:\n",
    "            print(\"  -> La columna 'GR' no existe en esta tabla.\")\n",
    "            \n",
    "    except Exception as e:\n",
    "        print(f\"❌ No se pudo procesar la tabla. Error: {e}\")\n",
    "    time.sleep(1)\n",
    "\n",
    "# --- FASE 3: Mostrar el Resultado Final ---\n",
    "df_hotlist = pd.DataFrame(hotlist_granizo).sort_values(by=['station_name', 'año'])\n",
    "\n",
    "print(\"\\n\\n✅ --- Hotlist de Años a Investigar ---\")\n",
    "display(df_hotlist)"
   ]
  },
  {
   "cell_type": "code",
   "execution_count": 42,
   "id": "0d281a63-e796-4524-bcaf-8bf35101689b",
   "metadata": {},
   "outputs": [
    {
     "name": "stdout",
     "output_type": "stream",
     "text": [
      "--- Analizando registros de granizo para: San Martin ---\n",
      "--- Rango de Años del Dataset de NOAA: 2000-2024 ---\n",
      "\n",
      "✅ Período de años con granizo detectado: de 2020 a 2022\n",
      "✅ Total de años con registros en el rango: 3\n",
      "✅ Años específicos a investigar: [np.int64(2020), np.int64(2021), np.int64(2022)]\n"
     ]
    }
   ],
   "source": [
    "# Suponiendo que el DataFrame 'df_hotlist' ya existe en la memoria de tu notebook.\n",
    "\n",
    "# --- MODIFICÁ ESTA LÍNEA PARA CAMBIAR DE ESTACIÓN ---\n",
    "estacion_a_analizar = \"San Martin\" \n",
    "# ----------------------------------------------------\n",
    "\n",
    "# Puedes usar cualquiera de los nombres de esta lista:\n",
    "# \"Mendoza Aerodrome\", \"MENDOZA OBSERVATORI\", \"San Martin\", \n",
    "# \"Malargue Aerodrome\", \"San Rafael Aerodrome\"\n",
    "\n",
    "print(f\"--- Analizando registros de granizo para: {estacion_a_analizar} ---\")\n",
    "print(\"--- Rango de Años del Dataset de NOAA: 2000-2024 ---\")\n",
    "\n",
    "# === CAMBIO CLAVE AQUÍ ===\n",
    "# Añadimos dos condiciones para filtrar solo los años dentro de nuestro rango de datos.\n",
    "df_filtrado = df_hotlist[\n",
    "    (df_hotlist['station_name'] == estacion_a_analizar) &\n",
    "    (df_hotlist['año'] >= 2000) &\n",
    "    (df_hotlist['año'] <= 2024)\n",
    "]\n",
    "\n",
    "# Verificamos si encontramos datos para esa estación en ese rango\n",
    "if not df_filtrado.empty:\n",
    "    # Calculamos el primer y último año con registros\n",
    "    año_min = df_filtrado['año'].min()\n",
    "    año_max = df_filtrado['año'].max()\n",
    "    \n",
    "    # Contamos el total de años con al menos un evento\n",
    "    total_años_con_registros = len(df_filtrado)\n",
    "    \n",
    "    # Obtenemos la lista de los años específicos\n",
    "    lista_años = sorted(df_filtrado['año'].unique())\n",
    "    \n",
    "    print(f\"\\n✅ Período de años con granizo detectado: de {año_min} a {año_max}\")\n",
    "    print(f\"✅ Total de años con registros en el rango: {total_años_con_registros}\")\n",
    "    print(f\"✅ Años específicos a investigar: {lista_años}\")\n",
    "    \n",
    "else:\n",
    "    print(f\"\\n❌ No se encontraron registros de granizo para '{estacion_a_analizar}' en la hotlist dentro del rango 2000-2024.\")"
   ]
  },
  {
   "cell_type": "markdown",
   "id": "92511513-63a2-4846-81bb-85134840d51c",
   "metadata": {},
   "source": [
    "Lista para contabilizar eventos por estacion:"
   ]
  },
  {
   "cell_type": "code",
   "execution_count": null,
   "id": "c6ea4f73-8f78-4205-a119-c4b21ca9c383",
   "metadata": {},
   "outputs": [],
   "source": [
    "# Mendoza Aerodrome (2000 a 2024): 18 años con registros \n",
    "# MENDOZA OBSERVATORI (2000 a 2024): 5 años con registros  \n",
    "# San Martin (2000 a 2024): 3 años con registros  \n",
    "# Malargue Aerodrome (2000 a 2024): 11 años con registros  \n",
    "# San Rafael Aerodrome (2000 a 2024): 13 años con registros  "
   ]
  },
  {
   "cell_type": "code",
   "execution_count": null,
   "id": "e0e4ac04-800d-478a-a5f0-fa83716d18bd",
   "metadata": {},
   "outputs": [],
   "source": [
    "Procedemos a analisar las variables para ver si se puede identificar un patron evidente\n",
    "Por el momento es un analisis simple, sin limpieza de NaN, correcion de errores, etc.\n",
    "    "
   ]
  },
  {
   "cell_type": "code",
   "execution_count": 27,
   "id": "83042d09-6914-4c3f-9619-e2194626e4b2",
   "metadata": {},
   "outputs": [
    {
     "name": "stdout",
     "output_type": "stream",
     "text": [
      "✅ Dataset procesado cargado exitosamente en la variable 'df'.\n",
      "Número de filas: 37399\n"
     ]
    },
    {
     "data": {
      "text/html": [
       "<div>\n",
       "<style scoped>\n",
       "    .dataframe tbody tr th:only-of-type {\n",
       "        vertical-align: middle;\n",
       "    }\n",
       "\n",
       "    .dataframe tbody tr th {\n",
       "        vertical-align: top;\n",
       "    }\n",
       "\n",
       "    .dataframe thead th {\n",
       "        text-align: right;\n",
       "    }\n",
       "</style>\n",
       "<table border=\"1\" class=\"dataframe\">\n",
       "  <thead>\n",
       "    <tr style=\"text-align: right;\">\n",
       "      <th></th>\n",
       "      <th>date</th>\n",
       "      <th>station_name</th>\n",
       "      <th>PRCP</th>\n",
       "      <th>SNWD</th>\n",
       "      <th>TAVG</th>\n",
       "      <th>TMAX</th>\n",
       "      <th>TMIN</th>\n",
       "    </tr>\n",
       "  </thead>\n",
       "  <tbody>\n",
       "    <tr>\n",
       "      <th>0</th>\n",
       "      <td>2000-01-01</td>\n",
       "      <td>MALARGUE, AR</td>\n",
       "      <td>NaN</td>\n",
       "      <td>NaN</td>\n",
       "      <td>20.8</td>\n",
       "      <td>NaN</td>\n",
       "      <td>12.7</td>\n",
       "    </tr>\n",
       "    <tr>\n",
       "      <th>1</th>\n",
       "      <td>2000-01-01</td>\n",
       "      <td>MENDOZA AERO, AR</td>\n",
       "      <td>NaN</td>\n",
       "      <td>NaN</td>\n",
       "      <td>24.4</td>\n",
       "      <td>32.8</td>\n",
       "      <td>17.0</td>\n",
       "    </tr>\n",
       "    <tr>\n",
       "      <th>2</th>\n",
       "      <td>2000-01-01</td>\n",
       "      <td>SAN MARTIN, AR</td>\n",
       "      <td>0.0</td>\n",
       "      <td>NaN</td>\n",
       "      <td>24.1</td>\n",
       "      <td>NaN</td>\n",
       "      <td>17.5</td>\n",
       "    </tr>\n",
       "    <tr>\n",
       "      <th>3</th>\n",
       "      <td>2000-01-01</td>\n",
       "      <td>SAN RAFAEL, AR</td>\n",
       "      <td>3.0</td>\n",
       "      <td>NaN</td>\n",
       "      <td>22.3</td>\n",
       "      <td>31.0</td>\n",
       "      <td>15.2</td>\n",
       "    </tr>\n",
       "    <tr>\n",
       "      <th>4</th>\n",
       "      <td>2000-01-02</td>\n",
       "      <td>MALARGUE, AR</td>\n",
       "      <td>0.0</td>\n",
       "      <td>NaN</td>\n",
       "      <td>20.8</td>\n",
       "      <td>28.9</td>\n",
       "      <td>11.4</td>\n",
       "    </tr>\n",
       "  </tbody>\n",
       "</table>\n",
       "</div>"
      ],
      "text/plain": [
       "        date      station_name  PRCP  SNWD  TAVG  TMAX  TMIN\n",
       "0 2000-01-01      MALARGUE, AR   NaN   NaN  20.8   NaN  12.7\n",
       "1 2000-01-01  MENDOZA AERO, AR   NaN   NaN  24.4  32.8  17.0\n",
       "2 2000-01-01    SAN MARTIN, AR   0.0   NaN  24.1   NaN  17.5\n",
       "3 2000-01-01    SAN RAFAEL, AR   3.0   NaN  22.3  31.0  15.2\n",
       "4 2000-01-02      MALARGUE, AR   0.0   NaN  20.8  28.9  11.4"
      ]
     },
     "metadata": {},
     "output_type": "display_data"
    }
   ],
   "source": [
    "import pandas as pd\n",
    "\n",
    "# Ruta al dataset procesado que ya creamos\n",
    "ruta_datos_procesados = \"../data/processed/datos_noaa_mendoza_consolidado.csv\"\n",
    "\n",
    "# Cargamos los datos en un DataFrame llamado 'df'\n",
    "# Nos aseguramos de que la columna de fecha se interprete correctamente\n",
    "df = pd.read_csv(ruta_datos_procesados, parse_dates=['date'])\n",
    "\n",
    "print(\"✅ Dataset procesado cargado exitosamente en la variable 'df'.\")\n",
    "print(f\"Número de filas: {len(df)}\")\n",
    "display(df.head())"
   ]
  },
  {
   "cell_type": "code",
   "execution_count": 28,
   "id": "cc187f08-7b7c-4e67-935e-7bcd3d1ea4ee",
   "metadata": {},
   "outputs": [
    {
     "name": "stdout",
     "output_type": "stream",
     "text": [
      "Preparando los datos para el gráfico de series de tiempo...\n",
      "Creando el gráfico...\n"
     ]
    },
    {
     "data": {
      "application/vnd.plotly.v1+json": {
       "config": {
        "plotlyServerURL": "https://plot.ly"
       },
       "data": [
        {
         "line": {
          "color": "royalblue",
          "width": 2
         },
         "mode": "lines+markers",
         "name": "Temp. Media Anual (°C)",
         "type": "scatter",
         "x": {
          "bdata": "0AcAANEHAADSBwAA0wcAANQHAADVBwAA1gcAANcHAADYBwAA2QcAANoHAADbBwAA3AcAAN0HAADeBwAA3wcAAOAHAADhBwAA4gcAAOMHAADkBwAA5QcAAOYHAADnBwAA6AcAAA==",
          "dtype": "i4"
         },
         "y": {
          "bdata": "OGmHxCJOLUCqozqqo7ouQOD5nd/5HS5AZB9jnT32L0AQIpgM4M4uQFcUj4RvRS5AenfYMAomMEC2UNHEcfsuQKmTuGaAgDBAl9+kgWyZMEDAZPlLlr8vQGzuqYjthC9AWs6f5fwZMEBw/68GAeEvQI7ZMeHmxi9ARLhqQ7hqL0Ao4XGVcscuQNJJTCLsBDBAmh/3yKpvL0C9A9aBMkkwQP1qeGjrzzBA0aOmSM8YMEBjiTMXoSowQFSD9Npk+zBAW5x5l+clMUA=",
          "dtype": "f8"
         }
        },
        {
         "marker": {
          "color": "red",
          "size": 10,
          "symbol": "diamond"
         },
         "mode": "markers",
         "name": "Año con Reporte de Granizo (tutiempo.net)",
         "type": "scatter",
         "x": {
          "bdata": "0AcAANEHAADWBwAA1wcAANgHAADZBwAA2gcAANsHAADeBwAA3wcAAOAHAADiBwAA4wcAAOQHAADlBwAA5gcAAOcHAADoBwAA",
          "dtype": "i4"
         },
         "y": {
          "bdata": "OGmHxCJOLUCqozqqo7ouQHp32DAKJjBAtlDRxHH7LkCpk7hmgIAwQJffpIFsmTBAwGT5S5a/L0Bs7qmI7YQvQI7ZMeHmxi9ARLhqQ7hqL0Ao4XGVcscuQJof98iqby9AvQPWgTJJMED9anho688wQNGjpkjPGDBAY4kzF6EqMEBUg/TaZPswQFuceZfnJTFA",
          "dtype": "f8"
         }
        }
       ],
       "layout": {
        "legend": {
         "title": {
          "text": "Leyenda"
         }
        },
        "template": {
         "data": {
          "bar": [
           {
            "error_x": {
             "color": "#2a3f5f"
            },
            "error_y": {
             "color": "#2a3f5f"
            },
            "marker": {
             "line": {
              "color": "#E5ECF6",
              "width": 0.5
             },
             "pattern": {
              "fillmode": "overlay",
              "size": 10,
              "solidity": 0.2
             }
            },
            "type": "bar"
           }
          ],
          "barpolar": [
           {
            "marker": {
             "line": {
              "color": "#E5ECF6",
              "width": 0.5
             },
             "pattern": {
              "fillmode": "overlay",
              "size": 10,
              "solidity": 0.2
             }
            },
            "type": "barpolar"
           }
          ],
          "carpet": [
           {
            "aaxis": {
             "endlinecolor": "#2a3f5f",
             "gridcolor": "white",
             "linecolor": "white",
             "minorgridcolor": "white",
             "startlinecolor": "#2a3f5f"
            },
            "baxis": {
             "endlinecolor": "#2a3f5f",
             "gridcolor": "white",
             "linecolor": "white",
             "minorgridcolor": "white",
             "startlinecolor": "#2a3f5f"
            },
            "type": "carpet"
           }
          ],
          "choropleth": [
           {
            "colorbar": {
             "outlinewidth": 0,
             "ticks": ""
            },
            "type": "choropleth"
           }
          ],
          "contour": [
           {
            "colorbar": {
             "outlinewidth": 0,
             "ticks": ""
            },
            "colorscale": [
             [
              0,
              "#0d0887"
             ],
             [
              0.1111111111111111,
              "#46039f"
             ],
             [
              0.2222222222222222,
              "#7201a8"
             ],
             [
              0.3333333333333333,
              "#9c179e"
             ],
             [
              0.4444444444444444,
              "#bd3786"
             ],
             [
              0.5555555555555556,
              "#d8576b"
             ],
             [
              0.6666666666666666,
              "#ed7953"
             ],
             [
              0.7777777777777778,
              "#fb9f3a"
             ],
             [
              0.8888888888888888,
              "#fdca26"
             ],
             [
              1,
              "#f0f921"
             ]
            ],
            "type": "contour"
           }
          ],
          "contourcarpet": [
           {
            "colorbar": {
             "outlinewidth": 0,
             "ticks": ""
            },
            "type": "contourcarpet"
           }
          ],
          "heatmap": [
           {
            "colorbar": {
             "outlinewidth": 0,
             "ticks": ""
            },
            "colorscale": [
             [
              0,
              "#0d0887"
             ],
             [
              0.1111111111111111,
              "#46039f"
             ],
             [
              0.2222222222222222,
              "#7201a8"
             ],
             [
              0.3333333333333333,
              "#9c179e"
             ],
             [
              0.4444444444444444,
              "#bd3786"
             ],
             [
              0.5555555555555556,
              "#d8576b"
             ],
             [
              0.6666666666666666,
              "#ed7953"
             ],
             [
              0.7777777777777778,
              "#fb9f3a"
             ],
             [
              0.8888888888888888,
              "#fdca26"
             ],
             [
              1,
              "#f0f921"
             ]
            ],
            "type": "heatmap"
           }
          ],
          "histogram": [
           {
            "marker": {
             "pattern": {
              "fillmode": "overlay",
              "size": 10,
              "solidity": 0.2
             }
            },
            "type": "histogram"
           }
          ],
          "histogram2d": [
           {
            "colorbar": {
             "outlinewidth": 0,
             "ticks": ""
            },
            "colorscale": [
             [
              0,
              "#0d0887"
             ],
             [
              0.1111111111111111,
              "#46039f"
             ],
             [
              0.2222222222222222,
              "#7201a8"
             ],
             [
              0.3333333333333333,
              "#9c179e"
             ],
             [
              0.4444444444444444,
              "#bd3786"
             ],
             [
              0.5555555555555556,
              "#d8576b"
             ],
             [
              0.6666666666666666,
              "#ed7953"
             ],
             [
              0.7777777777777778,
              "#fb9f3a"
             ],
             [
              0.8888888888888888,
              "#fdca26"
             ],
             [
              1,
              "#f0f921"
             ]
            ],
            "type": "histogram2d"
           }
          ],
          "histogram2dcontour": [
           {
            "colorbar": {
             "outlinewidth": 0,
             "ticks": ""
            },
            "colorscale": [
             [
              0,
              "#0d0887"
             ],
             [
              0.1111111111111111,
              "#46039f"
             ],
             [
              0.2222222222222222,
              "#7201a8"
             ],
             [
              0.3333333333333333,
              "#9c179e"
             ],
             [
              0.4444444444444444,
              "#bd3786"
             ],
             [
              0.5555555555555556,
              "#d8576b"
             ],
             [
              0.6666666666666666,
              "#ed7953"
             ],
             [
              0.7777777777777778,
              "#fb9f3a"
             ],
             [
              0.8888888888888888,
              "#fdca26"
             ],
             [
              1,
              "#f0f921"
             ]
            ],
            "type": "histogram2dcontour"
           }
          ],
          "mesh3d": [
           {
            "colorbar": {
             "outlinewidth": 0,
             "ticks": ""
            },
            "type": "mesh3d"
           }
          ],
          "parcoords": [
           {
            "line": {
             "colorbar": {
              "outlinewidth": 0,
              "ticks": ""
             }
            },
            "type": "parcoords"
           }
          ],
          "pie": [
           {
            "automargin": true,
            "type": "pie"
           }
          ],
          "scatter": [
           {
            "fillpattern": {
             "fillmode": "overlay",
             "size": 10,
             "solidity": 0.2
            },
            "type": "scatter"
           }
          ],
          "scatter3d": [
           {
            "line": {
             "colorbar": {
              "outlinewidth": 0,
              "ticks": ""
             }
            },
            "marker": {
             "colorbar": {
              "outlinewidth": 0,
              "ticks": ""
             }
            },
            "type": "scatter3d"
           }
          ],
          "scattercarpet": [
           {
            "marker": {
             "colorbar": {
              "outlinewidth": 0,
              "ticks": ""
             }
            },
            "type": "scattercarpet"
           }
          ],
          "scattergeo": [
           {
            "marker": {
             "colorbar": {
              "outlinewidth": 0,
              "ticks": ""
             }
            },
            "type": "scattergeo"
           }
          ],
          "scattergl": [
           {
            "marker": {
             "colorbar": {
              "outlinewidth": 0,
              "ticks": ""
             }
            },
            "type": "scattergl"
           }
          ],
          "scattermap": [
           {
            "marker": {
             "colorbar": {
              "outlinewidth": 0,
              "ticks": ""
             }
            },
            "type": "scattermap"
           }
          ],
          "scattermapbox": [
           {
            "marker": {
             "colorbar": {
              "outlinewidth": 0,
              "ticks": ""
             }
            },
            "type": "scattermapbox"
           }
          ],
          "scatterpolar": [
           {
            "marker": {
             "colorbar": {
              "outlinewidth": 0,
              "ticks": ""
             }
            },
            "type": "scatterpolar"
           }
          ],
          "scatterpolargl": [
           {
            "marker": {
             "colorbar": {
              "outlinewidth": 0,
              "ticks": ""
             }
            },
            "type": "scatterpolargl"
           }
          ],
          "scatterternary": [
           {
            "marker": {
             "colorbar": {
              "outlinewidth": 0,
              "ticks": ""
             }
            },
            "type": "scatterternary"
           }
          ],
          "surface": [
           {
            "colorbar": {
             "outlinewidth": 0,
             "ticks": ""
            },
            "colorscale": [
             [
              0,
              "#0d0887"
             ],
             [
              0.1111111111111111,
              "#46039f"
             ],
             [
              0.2222222222222222,
              "#7201a8"
             ],
             [
              0.3333333333333333,
              "#9c179e"
             ],
             [
              0.4444444444444444,
              "#bd3786"
             ],
             [
              0.5555555555555556,
              "#d8576b"
             ],
             [
              0.6666666666666666,
              "#ed7953"
             ],
             [
              0.7777777777777778,
              "#fb9f3a"
             ],
             [
              0.8888888888888888,
              "#fdca26"
             ],
             [
              1,
              "#f0f921"
             ]
            ],
            "type": "surface"
           }
          ],
          "table": [
           {
            "cells": {
             "fill": {
              "color": "#EBF0F8"
             },
             "line": {
              "color": "white"
             }
            },
            "header": {
             "fill": {
              "color": "#C8D4E3"
             },
             "line": {
              "color": "white"
             }
            },
            "type": "table"
           }
          ]
         },
         "layout": {
          "annotationdefaults": {
           "arrowcolor": "#2a3f5f",
           "arrowhead": 0,
           "arrowwidth": 1
          },
          "autotypenumbers": "strict",
          "coloraxis": {
           "colorbar": {
            "outlinewidth": 0,
            "ticks": ""
           }
          },
          "colorscale": {
           "diverging": [
            [
             0,
             "#8e0152"
            ],
            [
             0.1,
             "#c51b7d"
            ],
            [
             0.2,
             "#de77ae"
            ],
            [
             0.3,
             "#f1b6da"
            ],
            [
             0.4,
             "#fde0ef"
            ],
            [
             0.5,
             "#f7f7f7"
            ],
            [
             0.6,
             "#e6f5d0"
            ],
            [
             0.7,
             "#b8e186"
            ],
            [
             0.8,
             "#7fbc41"
            ],
            [
             0.9,
             "#4d9221"
            ],
            [
             1,
             "#276419"
            ]
           ],
           "sequential": [
            [
             0,
             "#0d0887"
            ],
            [
             0.1111111111111111,
             "#46039f"
            ],
            [
             0.2222222222222222,
             "#7201a8"
            ],
            [
             0.3333333333333333,
             "#9c179e"
            ],
            [
             0.4444444444444444,
             "#bd3786"
            ],
            [
             0.5555555555555556,
             "#d8576b"
            ],
            [
             0.6666666666666666,
             "#ed7953"
            ],
            [
             0.7777777777777778,
             "#fb9f3a"
            ],
            [
             0.8888888888888888,
             "#fdca26"
            ],
            [
             1,
             "#f0f921"
            ]
           ],
           "sequentialminus": [
            [
             0,
             "#0d0887"
            ],
            [
             0.1111111111111111,
             "#46039f"
            ],
            [
             0.2222222222222222,
             "#7201a8"
            ],
            [
             0.3333333333333333,
             "#9c179e"
            ],
            [
             0.4444444444444444,
             "#bd3786"
            ],
            [
             0.5555555555555556,
             "#d8576b"
            ],
            [
             0.6666666666666666,
             "#ed7953"
            ],
            [
             0.7777777777777778,
             "#fb9f3a"
            ],
            [
             0.8888888888888888,
             "#fdca26"
            ],
            [
             1,
             "#f0f921"
            ]
           ]
          },
          "colorway": [
           "#636efa",
           "#EF553B",
           "#00cc96",
           "#ab63fa",
           "#FFA15A",
           "#19d3f3",
           "#FF6692",
           "#B6E880",
           "#FF97FF",
           "#FECB52"
          ],
          "font": {
           "color": "#2a3f5f"
          },
          "geo": {
           "bgcolor": "white",
           "lakecolor": "white",
           "landcolor": "#E5ECF6",
           "showlakes": true,
           "showland": true,
           "subunitcolor": "white"
          },
          "hoverlabel": {
           "align": "left"
          },
          "hovermode": "closest",
          "mapbox": {
           "style": "light"
          },
          "paper_bgcolor": "white",
          "plot_bgcolor": "#E5ECF6",
          "polar": {
           "angularaxis": {
            "gridcolor": "white",
            "linecolor": "white",
            "ticks": ""
           },
           "bgcolor": "#E5ECF6",
           "radialaxis": {
            "gridcolor": "white",
            "linecolor": "white",
            "ticks": ""
           }
          },
          "scene": {
           "xaxis": {
            "backgroundcolor": "#E5ECF6",
            "gridcolor": "white",
            "gridwidth": 2,
            "linecolor": "white",
            "showbackground": true,
            "ticks": "",
            "zerolinecolor": "white"
           },
           "yaxis": {
            "backgroundcolor": "#E5ECF6",
            "gridcolor": "white",
            "gridwidth": 2,
            "linecolor": "white",
            "showbackground": true,
            "ticks": "",
            "zerolinecolor": "white"
           },
           "zaxis": {
            "backgroundcolor": "#E5ECF6",
            "gridcolor": "white",
            "gridwidth": 2,
            "linecolor": "white",
            "showbackground": true,
            "ticks": "",
            "zerolinecolor": "white"
           }
          },
          "shapedefaults": {
           "line": {
            "color": "#2a3f5f"
           }
          },
          "ternary": {
           "aaxis": {
            "gridcolor": "white",
            "linecolor": "white",
            "ticks": ""
           },
           "baxis": {
            "gridcolor": "white",
            "linecolor": "white",
            "ticks": ""
           },
           "bgcolor": "#E5ECF6",
           "caxis": {
            "gridcolor": "white",
            "linecolor": "white",
            "ticks": ""
           }
          },
          "title": {
           "x": 0.05
          },
          "xaxis": {
           "automargin": true,
           "gridcolor": "white",
           "linecolor": "white",
           "ticks": "",
           "title": {
            "standoff": 15
           },
           "zerolinecolor": "white",
           "zerolinewidth": 2
          },
          "yaxis": {
           "automargin": true,
           "gridcolor": "white",
           "linecolor": "white",
           "ticks": "",
           "title": {
            "standoff": 15
           },
           "zerolinecolor": "white",
           "zerolinewidth": 2
          }
         }
        },
        "title": {
         "text": "Evolución de la Temperatura Media Anual en Mendoza vs. Años con Reporte de Granizo"
        },
        "xaxis": {
         "title": {
          "text": "Año"
         }
        },
        "yaxis": {
         "title": {
          "text": "Temperatura Media (°C)"
         }
        }
       }
      },
      "image/png": "[encoded data removed]"
     },
     "metadata": {},
     "output_type": "display_data"
    }
   ],
   "source": [
    "import pandas as pd\n",
    "import plotly.graph_objects as go\n",
    "\n",
    "# Suponiendo que 'df' es tu DataFrame consolidado y limpio de la NOAA,\n",
    "# y 'df_hotlist' es el DataFrame con los años de granizo de tutiempo.net.\n",
    "\n",
    "print(\"Preparando los datos para el gráfico de series de tiempo...\")\n",
    "\n",
    "# --- 1. Preparación de Datos ---\n",
    "\n",
    "# Asegurarnos de que 'date' sea un objeto datetime\n",
    "df['date'] = pd.to_datetime(df['date'])\n",
    "# Extraemos el año en una nueva columna\n",
    "df['año'] = df['date'].dt.year\n",
    "\n",
    "# Calculamos el promedio anual de las variables clave para todas las estaciones juntas\n",
    "# Usamos .reset_index() para convertir el resultado de groupby de nuevo en un DataFrame\n",
    "df_anual = df.groupby('año')[['TAVG', 'TMAX', 'PRCP']].mean().reset_index()\n",
    "\n",
    "\n",
    "# --- 2. Preparación de los Puntos de Granizo ---\n",
    "\n",
    "# Vamos a enfocarnos en una estación para que el gráfico sea más claro.\n",
    "# Podés cambiar \"Mendoza Aerodrome\" por otra de las estaciones.\n",
    "hotlist_filtrada = df_hotlist[df_hotlist['station_name'] == \"Mendoza Aerodrome\"]\n",
    "años_con_granizo = hotlist_filtrada['año'].unique()\n",
    "\n",
    "# Filtramos los datos anuales para quedarnos solo con los años donde hubo granizo\n",
    "df_granizo_anual = df_anual[df_anual['año'].isin(años_con_granizo)]\n",
    "\n",
    "\n",
    "# --- 3. Creación del Gráfico ---\n",
    "print(\"Creando el gráfico...\")\n",
    "\n",
    "# Creamos una figura\n",
    "fig = go.Figure()\n",
    "\n",
    "# Añadimos la línea de la evolución de la temperatura media\n",
    "fig.add_trace(go.Scatter(\n",
    "    x=df_anual['año'],\n",
    "    y=df_anual['TAVG'],\n",
    "    mode='lines+markers',\n",
    "    name='Temp. Media Anual (°C)',\n",
    "    line=dict(color='royalblue', width=2)\n",
    "))\n",
    "\n",
    "# Añadimos los puntos que marcan los años con reportes de granizo\n",
    "fig.add_trace(go.Scatter(\n",
    "    x=df_granizo_anual['año'],\n",
    "    y=df_granizo_anual['TAVG'],\n",
    "    mode='markers',\n",
    "    name='Año con Reporte de Granizo (tutiempo.net)',\n",
    "    marker=dict(\n",
    "        color='red',\n",
    "        size=10,\n",
    "        symbol='diamond'\n",
    "    )\n",
    "))\n",
    "\n",
    "# Personalizamos el diseño del gráfico\n",
    "fig.update_layout(\n",
    "    title_text='Evolución de la Temperatura Media Anual en Mendoza vs. Años con Reporte de Granizo',\n",
    "    xaxis_title='Año',\n",
    "    yaxis_title='Temperatura Media (°C)',\n",
    "    legend_title='Leyenda'\n",
    ")\n",
    "\n",
    "fig.show()\n",
    "\n",
    "# Para guardarlo en HTML\n",
    "# fig.write_html(\"../reports/figures/evolucion_clima_vs_granizo.html\")"
   ]
  },
  {
   "cell_type": "code",
   "execution_count": null,
   "id": "36ea0964-b675-4dc8-9c08-d4c9f68d3729",
   "metadata": {},
   "outputs": [],
   "source": []
  }
 ],
 "metadata": {
  "kernelspec": {
   "display_name": "Python 3 (ipykernel)",
   "language": "python",
   "name": "python3"
  },
  "language_info": {
   "codemirror_mode": {
    "name": "ipython",
    "version": 3
   },
   "file_extension": ".py",
   "mimetype": "text/x-python",
   "name": "python",
   "nbconvert_exporter": "python",
   "pygments_lexer": "ipython3",
   "version": "3.12.10"
  }
 },
 "nbformat": 4,
 "nbformat_minor": 5
}
