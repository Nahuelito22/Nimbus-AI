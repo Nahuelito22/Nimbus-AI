{
  "cells": [
    {
      "cell_type": "markdown",
      "id": "f6e0b37c-187d-4b63-a798-ce6576144584",
      "metadata": {
        "id": "f6e0b37c-187d-4b63-a798-ce6576144584"
      },
      "source": [
        "# Optimización automática de modelo v3"
      ]
    },
    {
      "cell_type": "markdown",
      "source": [
        "## Importar e instalar librerias"
      ],
      "metadata": {
        "id": "LEj7hDP4gKbg"
      },
      "id": "LEj7hDP4gKbg"
    },
    {
      "cell_type": "markdown",
      "source": [
        "Instalar optimizadores"
      ],
      "metadata": {
        "id": "uwHyar8agO3G"
      },
      "id": "uwHyar8agO3G"
    },
    {
      "cell_type": "code",
      "source": [
        "!pip install keras-tuner -q\n",
        "!pip install scikeras -q"
      ],
      "metadata": {
        "colab": {
          "base_uri": "https://localhost:8080/"
        },
        "id": "RgWwpKyJgJ6Z",
        "outputId": "52923677-3df1-4119-a305-627e87635aec"
      },
      "id": "RgWwpKyJgJ6Z",
      "execution_count": 1,
      "outputs": [
        {
          "output_type": "stream",
          "name": "stdout",
          "text": [
            "\u001b[?25l   \u001b[90m━━━━━━━━━━━━━━━━━━━━━━━━━━━━━━━━━━━━━━━━\u001b[0m \u001b[32m0.0/129.1 kB\u001b[0m \u001b[31m?\u001b[0m eta \u001b[36m-:--:--\u001b[0m\r\u001b[2K   \u001b[90m━━━━━━━━━━━━━━━━━━━━━━━━━━━━━━━━━━━━━━━━\u001b[0m \u001b[32m129.1/129.1 kB\u001b[0m \u001b[31m4.3 MB/s\u001b[0m eta \u001b[36m0:00:00\u001b[0m\n",
            "\u001b[?25h"
          ]
        }
      ]
    },
    {
      "cell_type": "markdown",
      "source": [
        "Importar librerias"
      ],
      "metadata": {
        "id": "Qps_r2utgaCa"
      },
      "id": "Qps_r2utgaCa"
    },
    {
      "cell_type": "code",
      "source": [
        "import tensorflow as tf\n",
        "from tensorflow import keras\n",
        "import kerastuner as kt\n",
        "import numpy as np\n",
        "import pickle\n",
        "import os\n",
        "from keras import layers\n",
        "from sklearn.utils import class_weight\n",
        "print(\"✅ Entorno preparado.\")"
      ],
      "metadata": {
        "colab": {
          "base_uri": "https://localhost:8080/"
        },
        "id": "gOpIdISQgOYj",
        "outputId": "7782e343-6c48-4b42-ac49-18d77bafed37"
      },
      "id": "gOpIdISQgOYj",
      "execution_count": 7,
      "outputs": [
        {
          "output_type": "stream",
          "name": "stdout",
          "text": [
            "✅ Entorno preparado.\n"
          ]
        }
      ]
    },
    {
      "cell_type": "markdown",
      "source": [
        "## Conectar Google Drive"
      ],
      "metadata": {
        "id": "7_IEtm9qgjuz"
      },
      "id": "7_IEtm9qgjuz"
    },
    {
      "cell_type": "code",
      "source": [
        "# --- 1. Configuración del Entorno ---\n",
        "from google.colab import drive\n",
        "drive.mount('/content/drive')\n"
      ],
      "metadata": {
        "colab": {
          "base_uri": "https://localhost:8080/"
        },
        "id": "INZUqCaUglrk",
        "outputId": "2d44ee87-ff08-45f0-c84e-71d624b6a30a"
      },
      "id": "INZUqCaUglrk",
      "execution_count": 3,
      "outputs": [
        {
          "output_type": "stream",
          "name": "stdout",
          "text": [
            "Mounted at /content/drive\n"
          ]
        }
      ]
    },
    {
      "cell_type": "markdown",
      "id": "6d413c98-78e8-437f-a99f-50bb46487c3f",
      "metadata": {
        "id": "6d413c98-78e8-437f-a99f-50bb46487c3f"
      },
      "source": [
        "## Configuración y Carga de Datos"
      ]
    },
    {
      "cell_type": "markdown",
      "source": [
        "Cargamos datos necesarios"
      ],
      "metadata": {
        "id": "CqohaHEzg8Mw"
      },
      "id": "CqohaHEzg8Mw"
    },
    {
      "cell_type": "code",
      "execution_count": 4,
      "id": "de806f24-ad54-4670-adb7-d8eb03e7a570",
      "metadata": {
        "colab": {
          "base_uri": "https://localhost:8080/"
        },
        "id": "de806f24-ad54-4670-adb7-d8eb03e7a570",
        "outputId": "eaf55d82-85ed-4809-800a-f8f5ed8cf873"
      },
      "outputs": [
        {
          "output_type": "stream",
          "name": "stdout",
          "text": [
            "✅ Todos los sets de datos y el scaler cargados exitosamente.\n",
            "\n",
            "--- Verificación de Dimensiones ---\n",
            "Forma de X_tabular_train_scaled: (372, 22)\n",
            "Forma de X_images_train: (372, 64, 64, 5)\n",
            "Forma de y_train: (372,)\n"
          ]
        }
      ],
      "source": [
        "# Cargamos los archivos que guardamos desde la notebook 09\n",
        "ruta_datos = \"/content/drive/MyDrive/Nimbus_AI/data/processed/modelo_multimodal/sets_finales/\"\n",
        "\n",
        "try:\n",
        "    X_tabular_train_scaled = np.load(ruta_datos + \"X_tabular_train_scaled.npy\")\n",
        "    X_tabular_test_scaled = np.load(ruta_datos + \"X_tabular_test_scaled.npy\")\n",
        "    X_images_train = np.load(ruta_datos + \"X_images_train.npy\")\n",
        "    X_images_test = np.load(ruta_datos + \"X_images_test.npy\")\n",
        "    y_train = np.load(ruta_datos + \"y_train.npy\")\n",
        "    y_test = np.load(ruta_datos + \"y_test.npy\")\n",
        "\n",
        "    with open(os.path.join(ruta_datos, 'scaler.pkl'), 'rb') as f:\n",
        "        scaler = pickle.load(f)\n",
        "\n",
        "    print(\"✅ Todos los sets de datos y el scaler cargados exitosamente.\")\n",
        "    print(\"\\n--- Verificación de Dimensiones ---\")\n",
        "    print(f\"Forma de X_tabular_train_scaled: {X_tabular_train_scaled.shape}\")\n",
        "    print(f\"Forma de X_images_train: {X_images_train.shape}\")\n",
        "    print(f\"Forma de y_train: {y_train.shape}\")\n",
        "\n",
        "except FileNotFoundError:\n",
        "    print(f\"❌ ERROR: No se encontraron los archivos .npy en '{ruta_datos}'.\")\n",
        "    print(\"Asegúrate de haber ejecutado la última celda de la notebook 09 para guardar los datos.\")"
      ]
    },
    {
      "cell_type": "markdown",
      "source": [
        "## La Función \"Constructora\" de Modelos"
      ],
      "metadata": {
        "id": "nryP2Bq3hPop"
      },
      "id": "nryP2Bq3hPop"
    },
    {
      "cell_type": "code",
      "source": [
        "def build_model(hp):\n",
        "    # --- Rama Tabular (MLP) ---\n",
        "    input_tabular = keras.Input(shape=(X_tabular_train_scaled.shape[1],), name=\"input_numerico\")\n",
        "\n",
        "    # Hiperparámetro: Unidades en la primera capa densa. Probará con 16, 32, 48 o 64.\n",
        "    units_1 = hp.Int('units_1', min_value=16, max_value=64, step=16)\n",
        "    x = layers.Dense(units_1, activation=\"relu\")(input_tabular)\n",
        "\n",
        "    # Hiperparámetro: Unidades en la segunda capa densa. Probará con 8, 16 o 24.\n",
        "    units_2 = hp.Int('units_2', min_value=8, max_value=32, step=8)\n",
        "    x = layers.Dense(units_2, activation=\"relu\")(x)\n",
        "\n",
        "    rama_tabular_salida = layers.Dense(8, activation=\"relu\")(x)\n",
        "\n",
        "    # --- Rama de Imágenes (CNN) ---\n",
        "    input_imagenes = keras.Input(shape=(64, 64, 5), name=\"input_visual\")\n",
        "\n",
        "    # Hiperparámetro: Número de filtros en la primera capa convolucional.\n",
        "    filters_1 = hp.Choice('filters_1', values=[16, 32])\n",
        "    y = layers.Conv2D(filters=filters_1, kernel_size=(3, 3), activation=\"relu\")(input_imagenes)\n",
        "    y = layers.MaxPooling2D(pool_size=(2, 2))(y)\n",
        "\n",
        "    # Hiperparámetro: Número de filtros en la segunda capa convolucional.\n",
        "    filters_2 = hp.Choice('filters_2', values=[32, 64])\n",
        "    y = layers.Conv2D(filters=filters_2, kernel_size=(3, 3), activation=\"relu\")(y)\n",
        "    y = layers.MaxPooling2D(pool_size=(2, 2))(y)\n",
        "\n",
        "    y = layers.Flatten()(y)\n",
        "    rama_imagenes_salida = layers.Dense(32, activation=\"relu\")(y)\n",
        "\n",
        "    # --- Unión y Clasificación ---\n",
        "    ramas_unidas = layers.concatenate([rama_tabular_salida, rama_imagenes_salida])\n",
        "\n",
        "    # Hiperparámetro: Tasa de Dropout.\n",
        "    dropout_rate = hp.Float('dropout_rate', min_value=0.3, max_value=0.5, step=0.1)\n",
        "    z = layers.Dropout(dropout_rate)(ramas_unidas)\n",
        "\n",
        "    output_final = layers.Dense(1, activation=\"sigmoid\", name=\"output_final\")(z)\n",
        "\n",
        "    modelo = keras.Model(inputs=[input_tabular, input_imagenes], outputs=[output_final])\n",
        "\n",
        "    # Hiperparámetro: Tasa de Aprendizaje (Learning Rate).\n",
        "    lr = hp.Choice('learning_rate', values=[1e-3, 1e-4])\n",
        "\n",
        "    modelo.compile(\n",
        "        optimizer=keras.optimizers.Adam(learning_rate=lr),\n",
        "        loss='binary_crossentropy',\n",
        "        metrics=[tf.keras.metrics.Recall(name='recall')] # Nos enfocamos en optimizar el Recall\n",
        "    )\n",
        "    return modelo\n",
        "\n",
        "print(\"✅ Función 'build_model' creada. Lista para el optimizador.\")"
      ],
      "metadata": {
        "colab": {
          "base_uri": "https://localhost:8080/"
        },
        "id": "j9o42So9hS-e",
        "outputId": "538ecdc3-2080-41e3-ba7d-c6487ea841e0"
      },
      "id": "j9o42So9hS-e",
      "execution_count": 6,
      "outputs": [
        {
          "output_type": "stream",
          "name": "stdout",
          "text": [
            "✅ Función 'build_model' creada. Lista para el optimizador.\n"
          ]
        }
      ]
    },
    {
      "cell_type": "markdown",
      "source": [
        "## Configurar e Iniciar la Búsqueda"
      ],
      "metadata": {
        "id": "GoCTLBOQhyab"
      },
      "id": "GoCTLBOQhyab"
    },
    {
      "cell_type": "markdown",
      "source": [
        "Este codigo tiene 3 etapas:\n",
        "1.   Calcular los Pesos de Clase\n",
        "2.   Configurar el Optimizador\n",
        "3.   ¡Iniciar la Búsqueda!\n",
        "\n"
      ],
      "metadata": {
        "id": "nyMxtKtZh6J0"
      },
      "id": "nyMxtKtZh6J0"
    },
    {
      "cell_type": "code",
      "source": [
        "\n",
        "#1)\n",
        "# Sigue siendo importante para que el tuner evalúe los modelos correctamente\n",
        "class_weights = class_weight.compute_class_weight(\n",
        "    'balanced',\n",
        "    classes=np.unique(y_train),\n",
        "    y=y_train\n",
        ")\n",
        "class_weights_dict = dict(enumerate(class_weights))\n",
        "\n",
        "#2)\n",
        "# Usaremos Hyperband, un algoritmo eficiente para la búsqueda\n",
        "tuner = kt.Hyperband(\n",
        "    build_model, # La función que creamos en la celda anterior\n",
        "    objective=kt.Objective(\"val_recall\", direction=\"max\"), # Le decimos que queremos maximizar el Recall en los datos de validación\n",
        "    max_epochs=30,\n",
        "    factor=3,\n",
        "    # Directorio para guardar los resultados de cada prueba\n",
        "    directory='/content/drive/MyDrive/Nimbus_AI/models/tuner_results',\n",
        "    project_name='nimbus_ai_v3.1_optimization'\n",
        ")\n",
        "\n",
        "# Creamos un callback para detener el entrenamiento de cada prueba si no mejora\n",
        "stop_early = tf.keras.callbacks.EarlyStopping(monitor='val_loss', patience=5)\n",
        "\n",
        "#3)\n",
        "print(\"\\nIniciando la búsqueda de los mejores hiperparámetros... Esto tomará un tiempo.\")\n",
        "\n",
        "tuner.search(\n",
        "    [X_tabular_train_scaled, X_images_train],\n",
        "    y_train,\n",
        "    epochs=50, # Un número alto, EarlyStopping decidirá cuándo parar\n",
        "    validation_data=([X_tabular_test_scaled, X_images_test], y_test),\n",
        "    callbacks=[stop_early],\n",
        "    class_weight=class_weights_dict\n",
        ")\n",
        "\n",
        "print(\"\\n✅ Búsqueda de hiperparámetros finalizada.\")"
      ],
      "metadata": {
        "colab": {
          "base_uri": "https://localhost:8080/"
        },
        "id": "3oA20ajLhz_h",
        "outputId": "34e29694-a422-4886-98e2-edcd01873d8f"
      },
      "id": "3oA20ajLhz_h",
      "execution_count": 8,
      "outputs": [
        {
          "output_type": "stream",
          "name": "stdout",
          "text": [
            "Trial 90 Complete [00h 00m 13s]\n",
            "val_recall: 0.699999988079071\n",
            "\n",
            "Best val_recall So Far: 1.0\n",
            "Total elapsed time: 00h 16m 49s\n",
            "\n",
            "✅ Búsqueda de hiperparámetros finalizada.\n"
          ]
        }
      ]
    },
    {
      "cell_type": "markdown",
      "source": [
        "## Visualizacion de la mejor arquitectura"
      ],
      "metadata": {
        "id": "qnC1ojq1mqZ_"
      },
      "id": "qnC1ojq1mqZ_"
    },
    {
      "cell_type": "code",
      "source": [
        "# --- Obtener los mejores hiperparámetros ---\n",
        "# Le pedimos al 'tuner' que nos muestre el mejor resultado\n",
        "mejores_hiperparametros = tuner.get_best_hyperparameters(num_trials=1)[0]\n",
        "\n",
        "print(\"--- Mejor Configuración Encontrada ---\")\n",
        "print(f\"Neuronas Capa 1 (Tabular): {mejores_hiperparametros.get('units_1')}\")\n",
        "print(f\"Neuronas Capa 2 (Tabular): {mejores_hiperparametros.get('units_2')}\")\n",
        "print(f\"Filtros Capa 1 (Imágenes): {mejores_hiperparametros.get('filters_1')}\")\n",
        "print(f\"Filtros Capa 2 (Imágenes): {mejores_hiperparametros.get('filters_2')}\")\n",
        "print(f\"Tasa de Dropout: {mejores_hiperparametros.get('dropout_rate'):.2f}\")\n",
        "print(f\"Tasa de Aprendizaje (LR): {mejores_hiperparametros.get('learning_rate')}\")"
      ],
      "metadata": {
        "colab": {
          "base_uri": "https://localhost:8080/"
        },
        "id": "3DxpShDmmvRZ",
        "outputId": "c663c458-dac4-4ead-a471-8444d65a7907"
      },
      "id": "3DxpShDmmvRZ",
      "execution_count": 9,
      "outputs": [
        {
          "output_type": "stream",
          "name": "stdout",
          "text": [
            "--- Mejor Configuración Encontrada ---\n",
            "Neuronas Capa 1 (Tabular): 32\n",
            "Neuronas Capa 2 (Tabular): 16\n",
            "Filtros Capa 1 (Imágenes): 16\n",
            "Filtros Capa 2 (Imágenes): 32\n",
            "Tasa de Dropout: 0.30\n",
            "Tasa de Aprendizaje (LR): 0.0001\n"
          ]
        }
      ]
    },
    {
      "cell_type": "markdown",
      "source": [
        "## Entrenar y evaluar el modelo ganador"
      ],
      "metadata": {
        "id": "ZGIbxmCjnG_r"
      },
      "id": "ZGIbxmCjnG_r"
    },
    {
      "cell_type": "code",
      "source": [
        "from sklearn.metrics import confusion_matrix, classification_report\n",
        "import seaborn as sns\n",
        "import matplotlib.pyplot as plt\n",
        "\n",
        "# --- 1. Obtener el mejor modelo encontrado por el tuner ---\n",
        "best_model = tuner.get_best_models(num_models=1)[0]\n",
        "print(\"✅ Mejor modelo obtenido del tuner.\")\n",
        "\n",
        "# --- 2. Evaluación Definitiva del Modelo Optimizado (V3.1) ---\n",
        "print(\"\\n--- Evaluación Definitiva del Modelo Optimizado (V3.1) ---\")\n",
        "\n",
        "# Hacemos la evaluación y guardamos los resultados en un diccionario\n",
        "results_dict = dict(zip(best_model.metrics_names, best_model.evaluate([X_tabular_test_scaled, X_images_test], y_test, verbose=0)))\n",
        "\n",
        "# Verificamos si cada métrica existe antes de intentar imprimirla.\n",
        "if 'loss' in results_dict:\n",
        "    print(f\"Pérdida (Loss): {results_dict['loss']:.4f}\")\n",
        "if 'recall' in results_dict:\n",
        "    print(f\"Sensibilidad (Recall): {results_dict['recall']:.4f}\")\n",
        "if 'precision' in results_dict:\n",
        "    print(f\"Precisión (Precision): {results_dict['precision']:.4f}\")\n",
        "if 'accuracy' in results_dict:\n",
        "    print(f\"Exactitud (Accuracy): {results_dict['accuracy']:.4f}\")\n",
        "# =================================\n",
        "\n",
        "# --- 3. Reporte de Clasificación y Matriz de Confusión ---\n",
        "y_pred_probs = best_model.predict([X_tabular_test_scaled, X_images_test])\n",
        "y_pred = (y_pred_probs > 0.5).astype(int)\n",
        "\n",
        "print(\"\\n--- Reporte de Clasificación Final ---\")\n",
        "print(classification_report(y_test, y_pred, target_names=['No Granizo (0)', 'Granizo (1)'], zero_division=0))\n",
        "\n",
        "print(\"\\n--- Matriz de Confusión Final ---\")\n",
        "cm = confusion_matrix(y_test, y_pred)\n",
        "plt.figure(figsize=(8, 6))\n",
        "sns.heatmap(cm, annot=True, fmt='d', cmap='Blues',\n",
        "            xticklabels=['Pred. No-Granizo (0)', 'Pred. Granizo (1)'],\n",
        "            yticklabels=['Real No-Granizo (0)', 'Real Granizo (1)'])\n",
        "plt.title('Matriz de Confusión - Modelo Optimizado V3.1')\n",
        "plt.ylabel('Valor Real')\n",
        "plt.xlabel('Valor Predicho')\n",
        "plt.show()\n",
        "\n",
        "# --- 4. Guardar el Modelo Final ---\n",
        "ruta_modelo_final = \"/content/drive/MyDrive/Nimbus_AI/models/multimodal_v3.1_optimizado.keras\"\n",
        "best_model.save(ruta_modelo_final)\n",
        "print(f\"\\n✅ Modelo final optimizado guardado en: '{ruta_modelo_final}'\")"
      ],
      "metadata": {
        "colab": {
          "base_uri": "https://localhost:8080/",
          "height": 912
        },
        "id": "k_NTRTdRnJ6F",
        "outputId": "94771f67-7a4e-442b-ee07-c2918aa199e5"
      },
      "id": "k_NTRTdRnJ6F",
      "execution_count": 12,
      "outputs": [
        {
          "output_type": "stream",
          "name": "stdout",
          "text": [
            "✅ Mejor modelo obtenido del tuner.\n",
            "\n",
            "--- Evaluación Definitiva del Modelo Optimizado (V3.1) ---\n",
            "Pérdida (Loss): 0.7182\n",
            "\u001b[1m3/3\u001b[0m \u001b[32m━━━━━━━━━━━━━━━━━━━━\u001b[0m\u001b[37m\u001b[0m \u001b[1m1s\u001b[0m 186ms/step\n",
            "\n",
            "--- Reporte de Clasificación Final ---\n",
            "                precision    recall  f1-score   support\n",
            "\n",
            "No Granizo (0)       1.00      0.25      0.40        84\n",
            "   Granizo (1)       0.14      1.00      0.24        10\n",
            "\n",
            "      accuracy                           0.33        94\n",
            "     macro avg       0.57      0.62      0.32        94\n",
            "  weighted avg       0.91      0.33      0.38        94\n",
            "\n",
            "\n",
            "--- Matriz de Confusión Final ---\n"
          ]
        },
        {
          "output_type": "display_data",
          "data": {
            "text/plain": [
              "<Figure size 800x600 with 2 Axes>"
            ],
            "image/png": "[encoded data removed]"
          },
          "metadata": {}
        },
        {
          "output_type": "stream",
          "name": "stdout",
          "text": [
            "\n",
            "✅ Modelo final optimizado guardado en: '/content/drive/MyDrive/Nimbus_AI/models/multimodal_v3.1_optimizado.keras'\n"
          ]
        }
      ]
    }
  ],
  "metadata": {
    "kernelspec": {
      "display_name": "Python 3",
      "name": "python3"
    },
    "language_info": {
      "codemirror_mode": {
        "name": "ipython",
        "version": 3
      },
      "file_extension": ".py",
      "mimetype": "text/x-python",
      "name": "python",
      "nbconvert_exporter": "python",
      "pygments_lexer": "ipython3",
      "version": "3.12.10"
    },
    "colab": {
      "provenance": [],
      "gpuType": "T4"
    },
    "accelerator": "GPU"
  },
  "nbformat": 4,
  "nbformat_minor": 5
}