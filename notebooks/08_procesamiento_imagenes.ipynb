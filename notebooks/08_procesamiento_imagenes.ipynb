{
 "cells": [
  {
   "cell_type": "markdown",
   "id": "9a059756-6a0b-46d7-bc5d-8c16046c4053",
   "metadata": {},
   "source": [
    "# Procesamiento de Imágenes satelitales"
   ]
  },
  {
   "cell_type": "markdown",
   "id": "fffcf617-fd2d-4ddf-a5ec-a839c5f42311",
   "metadata": {},
   "source": [
    "## Información sobre estructura de archivos NC"
   ]
  },
  {
   "cell_type": "markdown",
   "id": "24779d6d-f2f5-4752-affe-d2275a9b76c1",
   "metadata": {},
   "source": [
    "1) Importación de librerías"
   ]
  },
  {
   "cell_type": "code",
   "execution_count": 1,
   "id": "81fa9b56-171c-4144-8b29-4751abeb219f",
   "metadata": {},
   "outputs": [],
   "source": [
    "import xarray as xr\n",
    "import matplotlib.pyplot as plt\n",
    "import os"
   ]
  },
  {
   "cell_type": "markdown",
   "id": "e89faeee-0298-47ee-bf7c-1e132123a51b",
   "metadata": {},
   "source": [
    "2) Seleccionar una imagen de ejemplo"
   ]
  },
  {
   "cell_type": "code",
   "execution_count": 2,
   "id": "7ed3eceb-fb2a-402e-9361-31c36f7d6145",
   "metadata": {},
   "outputs": [],
   "source": [
    "ruta_imagenes = \"../data/raw/imagenes_satelitales/\"\n",
    "nombre_archivo_ejemplo = \"2017-03-25_2000_UTC_C13.nc\"\n",
    "ruta_completa = os.path.join(ruta_imagenes, nombre_archivo_ejemplo)"
   ]
  },
  {
   "cell_type": "markdown",
   "id": "ce03c6f9-5300-4aaf-811f-aa3fed498916",
   "metadata": {},
   "source": [
    "3) Abrir e inspeccionar el archivo"
   ]
  },
  {
   "cell_type": "code",
   "execution_count": 3,
   "id": "81c7f706-1f63-43fc-aba7-be73808e5c7e",
   "metadata": {},
   "outputs": [
    {
     "name": "stdout",
     "output_type": "stream",
     "text": [
      "✅ Archivo '2017-04-05_2000_UTC.nc' abierto exitosamente.\n",
      "\n",
      "--- Estructura interna del archivo NetCDF: ---\n",
      "<xarray.Dataset> Size: 942MB\n",
      "Dimensions:                                 (y: 10848, x: 10848,\n",
      "                                             number_of_time_bounds: 2,\n",
      "                                             number_of_image_bounds: 2, band: 1)\n",
      "Coordinates:\n",
      "    t                                       datetime64[ns] 8B ...\n",
      "  * y                                       (y) float32 43kB 0.1519 ... -0.1519\n",
      "  * x                                       (x) float32 43kB -0.1519 ... 0.1519\n",
      "    y_image                                 float32 4B ...\n",
      "    x_image                                 float32 4B ...\n",
      "    band_id                                 (band) int8 1B ...\n",
      "    band_wavelength                         (band) float32 4B ...\n",
      "Dimensions without coordinates: number_of_time_bounds, number_of_image_bounds,\n",
      "                                band\n",
      "Data variables: (12/29)\n",
      "    CMI                                     (y, x) float32 471MB ...\n",
      "    DQF                                     (y, x) float32 471MB ...\n",
      "    time_bounds                             (number_of_time_bounds) datetime64[ns] 16B ...\n",
      "    goes_imager_projection                  int32 4B ...\n",
      "    y_image_bounds                          (number_of_image_bounds) float32 8B ...\n",
      "    x_image_bounds                          (number_of_image_bounds) float32 8B ...\n",
      "    ...                                      ...\n",
      "    algorithm_dynamic_input_data_container  int32 4B ...\n",
      "    percent_uncorrectable_GRB_errors        float32 4B ...\n",
      "    percent_uncorrectable_L0_errors         float32 4B ...\n",
      "    earth_sun_distance_anomaly_in_AU        float32 4B ...\n",
      "    processing_parm_version_container       int32 4B ...\n",
      "    algorithm_product_version_container     int32 4B ...\n",
      "Attributes: (12/29)\n",
      "    naming_authority:          gov.nesdis.noaa\n",
      "    Conventions:               CF-1.7\n",
      "    Metadata_Conventions:      Unidata Dataset Discovery v1.0\n",
      "    standard_name_vocabulary:  CF Standard Name Table (v25, 05 July 2013)\n",
      "    institution:               DOC/NOAA/NESDIS > U.S. Department of Commerce,...\n",
      "    project:                   GOES\n",
      "    ...                        ...\n",
      "    cdm_data_type:             Image\n",
      "    time_coverage_start:       2017-04-05T20:00:43.1Z\n",
      "    time_coverage_end:         2017-04-05T20:11:19.7Z\n",
      "    timeline_id:               ABI Mode 3\n",
      "    production_data_source:    Realtime\n",
      "    id:                        749186f7-c984-4246-8c6a-53f7cd1e8d28\n"
     ]
    }
   ],
   "source": [
    "try:\n",
    "    ds = xr.open_dataset(ruta_completa)\n",
    "    print(f\"✅ Archivo '{nombre_archivo_ejemplo}' abierto exitosamente.\")\n",
    "    print(\"\\n--- Estructura interna del archivo NetCDF: ---\")\n",
    "    print(ds)\n",
    "\n",
    "except FileNotFoundError:\n",
    "    print(f\"❌ Error: No se encontró el archivo en la ruta '{ruta_completa}'.\")\n",
    "    print(\"Por favor, verifica que el nombre del archivo y la ruta sean correctos.\")"
   ]
  },
  {
   "cell_type": "markdown",
   "id": "36c7bb62-c702-437c-90b9-55260e98a725",
   "metadata": {},
   "source": [
    "## Visualización de un archivo muestra NC"
   ]
  },
  {
   "cell_type": "markdown",
   "id": "e81b2a21-d5c9-4666-93db-b59b9f8e9c10",
   "metadata": {},
   "source": [
    "Importación de librerías necesarias"
   ]
  },
  {
   "cell_type": "code",
   "execution_count": 4,
   "id": "536896bc-5e58-4e11-80a9-46af102aa627",
   "metadata": {},
   "outputs": [],
   "source": [
    "import matplotlib.pyplot as plt"
   ]
  },
  {
   "cell_type": "markdown",
   "id": "9494e279-5559-4407-b40e-fd86e04a173a",
   "metadata": {},
   "source": [
    "1) Seleccionamos la variable que contiene la imagen"
   ]
  },
  {
   "cell_type": "markdown",
   "id": "b5a5565d-9497-4fff-a6ff-7aaed08c4c65",
   "metadata": {},
   "source": [
    "2) Verificamos la longitud de onda de la banda - (Opcional)"
   ]
  },
  {
   "cell_type": "markdown",
   "id": "312d8fe1-bb81-4cec-acc1-b84c495d9e07",
   "metadata": {},
   "source": [
    "3) Creamos la visualización"
   ]
  },
  {
   "cell_type": "code",
   "execution_count": null,
   "id": "8f3c915c-cfcf-4ba2-8b41-4b0e8e112eb7",
   "metadata": {},
   "outputs": [],
   "source": []
  }
 ],
 "metadata": {
  "kernelspec": {
   "display_name": "Python 3 (ipykernel)",
   "language": "python",
   "name": "python3"
  },
  "language_info": {
   "codemirror_mode": {
    "name": "ipython",
    "version": 3
   },
   "file_extension": ".py",
   "mimetype": "text/x-python",
   "name": "python",
   "nbconvert_exporter": "python",
   "pygments_lexer": "ipython3",
   "version": "3.12.10"
  }
 },
 "nbformat": 4,
 "nbformat_minor": 5
}
