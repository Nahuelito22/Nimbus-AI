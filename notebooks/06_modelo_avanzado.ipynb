{
 "cells": [
  {
   "cell_type": "markdown",
   "id": "ed840a1c-3e28-40c6-8369-c093ed9ac0d1",
   "metadata": {},
   "source": [
    "# Modelo Avanzado Tabular V2.0"
   ]
  },
  {
   "cell_type": "markdown",
   "id": "e00c5e1f-ee80-4d82-80d3-2bbe1c65e78e",
   "metadata": {},
   "source": [
    "## Importación de datos, imputación de NaN y features para modelo"
   ]
  },
  {
   "cell_type": "markdown",
   "id": "1d055064-e6a3-453b-ab82-0f6b64af5f01",
   "metadata": {},
   "source": [
    "Importación de librerías necesarias "
   ]
  },
  {
   "cell_type": "code",
   "execution_count": 2,
   "id": "ff42f15c-ca2f-4df8-8405-dbee0aa5fb16",
   "metadata": {},
   "outputs": [],
   "source": [
    "import pandas as pd\n",
    "import numpy as np\n",
    "from sklearn.model_selection import train_test_split\n",
    "from sklearn.preprocessing import StandardScaler"
   ]
  },
  {
   "cell_type": "markdown",
   "id": "6fc33b34-aded-4834-a673-0b1a08fb725a",
   "metadata": {},
   "source": [
    "1) Carga "
   ]
  },
  {
   "cell_type": "code",
   "execution_count": 3,
   "id": "5d606950-4201-40db-a6ed-528743d8c95b",
   "metadata": {},
   "outputs": [
    {
     "name": "stdout",
     "output_type": "stream",
     "text": [
      "✅ Dataset enriquecido cargado. Dimensiones: (37399, 25)\n"
     ]
    }
   ],
   "source": [
    "ruta_dataset = \"../data/processed/dataset_final_enriquecido.csv\"\n",
    "df = pd.read_csv(ruta_dataset)\n",
    "df['date'] = pd.to_datetime(df['date'])\n",
    "print(f\"✅ Dataset enriquecido cargado. Dimensiones: {df.shape}\")"
   ]
  },
  {
   "cell_type": "markdown",
   "id": "fe680dae-7f25-40b3-be0e-236707e8b1b7",
   "metadata": {},
   "source": [
    "2) Limpieza final"
   ]
  },
  {
   "cell_type": "code",
   "execution_count": null,
   "id": "0a10dc97-bd5d-4514-af52-689d712528ff",
   "metadata": {},
   "outputs": [],
   "source": [
    "# Lógica de imputación para asegurar que no haya NaN\n",
    "mapeo_columnas = {\n",
    "    'TMAX': 'om_temperature_2m_max', 'TMIN': 'om_temperature_2m_min',\n",
    "    'TAVG': 'om_apparent_temperature_mean', 'PRCP': 'om_precipitation_sum'\n",
    "}\n",
    "for col_noaa, col_om in mapeo_columnas.items():\n",
    "    df[col_noaa] = df[col_noaa].fillna(df[col_om])\n",
    "df = df.interpolate(method='time').fillna(0)\n",
    "print(\"✅ Limpieza de NaN finalizada.\")\n",
    "\n",
    "# INGENIERÍA DE CARACTERÍSTICAS\n",
    "df['mes'] = df['date'].dt.month\n",
    "df['dia_del_año'] = df['date'].dt.dayofyear\n",
    "df['rango_temp_diario'] = df['TMAX'] - df['TMIN']\n",
    "print(\"✅ Nuevas características ('mes', 'rango_temp_diario', etc.) creadas.\")\n"
   ]
  },
  {
   "cell_type": "markdown",
   "id": "f063c020-4147-4b13-b130-52ab0b1ae798",
   "metadata": {},
   "source": [
    "3) Selección de Características y Objetivo"
   ]
  },
  {
   "cell_type": "code",
   "execution_count": null,
   "id": "c2a91c10-19fb-4aac-a437-1dab7936c661",
   "metadata": {},
   "outputs": [],
   "source": [
    "y = df['granizo']\n",
    "columnas_a_excluir = [\n",
    "    'date', 'station_name', 'granizo', 'latitude', 'longitude',\n",
    "    'om_temperature_2m_max', 'om_temperature_2m_min', \n",
    "    'om_apparent_temperature_mean', 'om_precipitation_sum'\n",
    "]\n",
    "X = df.drop(columns=columnas_a_excluir)\n",
    "print(f\"\\n✅ Datos separados. Usaremos {X.shape[1]} características para predecir.\")\n"
   ]
  },
  {
   "cell_type": "markdown",
   "id": "640f002e-cda1-4221-93e3-91131a089d9a",
   "metadata": {},
   "source": [
    "4) División de Entrenamiento y Prueba"
   ]
  },
  {
   "cell_type": "code",
   "execution_count": null,
   "id": "c40c877e-114a-4429-80b4-e0a2d8742c32",
   "metadata": {},
   "outputs": [],
   "source": [
    "X_train, X_test, y_train, y_test = train_test_split(\n",
    "    X, y, test_size=0.2, random_state=42, stratify=y\n",
    ")\n",
    "print(\"\\n✅ Datos divididos en conjuntos de entrenamiento y prueba.\")"
   ]
  },
  {
   "cell_type": "markdown",
   "id": "7bab1212-5027-473f-af53-72977ab86e50",
   "metadata": {},
   "source": [
    "5) Escalado de Características "
   ]
  },
  {
   "cell_type": "code",
   "execution_count": null,
   "id": "fa8c63fe-1044-499f-b3ad-d5ade5ca1a8c",
   "metadata": {},
   "outputs": [],
   "source": [
    "scaler = StandardScaler()\n",
    "X_train_scaled = scaler.fit_transform(X_train)\n",
    "X_test_scaled = scaler.transform(X_test)\n",
    "print(\"✅ Datos escalados exitosamente.\")"
   ]
  }
 ],
 "metadata": {
  "kernelspec": {
   "display_name": "Python 3 (ipykernel)",
   "language": "python",
   "name": "python3"
  },
  "language_info": {
   "codemirror_mode": {
    "name": "ipython",
    "version": 3
   },
   "file_extension": ".py",
   "mimetype": "text/x-python",
   "name": "python",
   "nbconvert_exporter": "python",
   "pygments_lexer": "ipython3",
   "version": "3.12.10"
  }
 },
 "nbformat": 4,
 "nbformat_minor": 5
}
