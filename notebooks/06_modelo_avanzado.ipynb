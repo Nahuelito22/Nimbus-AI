{
 "cells": [
  {
   "cell_type": "markdown",
   "id": "ed840a1c-3e28-40c6-8369-c093ed9ac0d1",
   "metadata": {},
   "source": [
    "# Modelo Avanzado Tabular V2.0"
   ]
  },
  {
   "cell_type": "markdown",
   "id": "e00c5e1f-ee80-4d82-80d3-2bbe1c65e78e",
   "metadata": {
    "jp-MarkdownHeadingCollapsed": true
   },
   "source": [
    "## Importación de datos, imputación de NaN y features para modelo"
   ]
  },
  {
   "cell_type": "markdown",
   "id": "1d055064-e6a3-453b-ab82-0f6b64af5f01",
   "metadata": {},
   "source": [
    "Importación de librerías necesarias "
   ]
  },
  {
   "cell_type": "code",
   "execution_count": 2,
   "id": "ff42f15c-ca2f-4df8-8405-dbee0aa5fb16",
   "metadata": {},
   "outputs": [],
   "source": [
    "import pandas as pd\n",
    "import numpy as np\n",
    "from sklearn.model_selection import train_test_split\n",
    "from sklearn.preprocessing import StandardScaler"
   ]
  },
  {
   "cell_type": "markdown",
   "id": "6fc33b34-aded-4834-a673-0b1a08fb725a",
   "metadata": {},
   "source": [
    "1) Carga "
   ]
  },
  {
   "cell_type": "code",
   "execution_count": 3,
   "id": "5d606950-4201-40db-a6ed-528743d8c95b",
   "metadata": {},
   "outputs": [
    {
     "name": "stdout",
     "output_type": "stream",
     "text": [
      "✅ Dataset enriquecido cargado. Dimensiones: (37399, 25)\n"
     ]
    }
   ],
   "source": [
    "ruta_dataset = \"../data/processed/dataset_final_enriquecido.csv\"\n",
    "df = pd.read_csv(ruta_dataset)\n",
    "df['date'] = pd.to_datetime(df['date'])\n",
    "print(f\"✅ Dataset enriquecido cargado. Dimensiones: {df.shape}\")"
   ]
  },
  {
   "cell_type": "markdown",
   "id": "fe680dae-7f25-40b3-be0e-236707e8b1b7",
   "metadata": {},
   "source": [
    "2) Limpieza final"
   ]
  },
  {
   "cell_type": "code",
   "execution_count": null,
   "id": "0a10dc97-bd5d-4514-af52-689d712528ff",
   "metadata": {},
   "outputs": [],
   "source": [
    "# Lógica de imputación para asegurar que no haya NaN\n",
    "mapeo_columnas = {\n",
    "    'TMAX': 'om_temperature_2m_max', 'TMIN': 'om_temperature_2m_min',\n",
    "    'TAVG': 'om_apparent_temperature_mean', 'PRCP': 'om_precipitation_sum'\n",
    "}\n",
    "for col_noaa, col_om in mapeo_columnas.items():\n",
    "    df[col_noaa] = df[col_noaa].fillna(df[col_om])\n",
    "df = df.interpolate(method='time').fillna(0)\n",
    "print(\"✅ Limpieza de NaN finalizada.\")\n",
    "\n",
    "# INGENIERÍA DE CARACTERÍSTICAS\n",
    "df['mes'] = df['date'].dt.month\n",
    "df['dia_del_año'] = df['date'].dt.dayofyear\n",
    "df['rango_temp_diario'] = df['TMAX'] - df['TMIN']\n",
    "print(\"✅ Nuevas características ('mes', 'rango_temp_diario', etc.) creadas.\")\n"
   ]
  },
  {
   "cell_type": "markdown",
   "id": "f063c020-4147-4b13-b130-52ab0b1ae798",
   "metadata": {},
   "source": [
    "3) Selección de Características y Objetivo"
   ]
  },
  {
   "cell_type": "code",
   "execution_count": null,
   "id": "c2a91c10-19fb-4aac-a437-1dab7936c661",
   "metadata": {},
   "outputs": [],
   "source": [
    "y = df['granizo']\n",
    "columnas_a_excluir = [\n",
    "    'date', 'station_name', 'granizo', 'latitude', 'longitude',\n",
    "    'om_temperature_2m_max', 'om_temperature_2m_min', \n",
    "    'om_apparent_temperature_mean', 'om_precipitation_sum'\n",
    "]\n",
    "X = df.drop(columns=columnas_a_excluir)\n",
    "print(f\"\\n✅ Datos separados. Usaremos {X.shape[1]} características para predecir.\")\n"
   ]
  },
  {
   "cell_type": "markdown",
   "id": "640f002e-cda1-4221-93e3-91131a089d9a",
   "metadata": {},
   "source": [
    "4) División de Entrenamiento y Prueba"
   ]
  },
  {
   "cell_type": "code",
   "execution_count": null,
   "id": "c40c877e-114a-4429-80b4-e0a2d8742c32",
   "metadata": {},
   "outputs": [],
   "source": [
    "X_train, X_test, y_train, y_test = train_test_split(\n",
    "    X, y, test_size=0.2, random_state=42, stratify=y\n",
    ")\n",
    "print(\"\\n✅ Datos divididos en conjuntos de entrenamiento y prueba.\")"
   ]
  },
  {
   "cell_type": "markdown",
   "id": "7bab1212-5027-473f-af53-72977ab86e50",
   "metadata": {},
   "source": [
    "5) Escalado de Características "
   ]
  },
  {
   "cell_type": "code",
   "execution_count": null,
   "id": "fa8c63fe-1044-499f-b3ad-d5ade5ca1a8c",
   "metadata": {},
   "outputs": [],
   "source": [
    "scaler = StandardScaler()\n",
    "X_train_scaled = scaler.fit_transform(X_train)\n",
    "X_test_scaled = scaler.transform(X_test)\n",
    "print(\"✅ Datos escalados exitosamente.\")"
   ]
  },
  {
   "cell_type": "markdown",
   "id": "6247e9e1-e508-4a11-a077-d53945be75bd",
   "metadata": {
    "jp-MarkdownHeadingCollapsed": true
   },
   "source": [
    "## Construir y Entrenar el Modelo Avanzado (V2.0)"
   ]
  },
  {
   "cell_type": "code",
   "execution_count": null,
   "id": "362bfc31-11a1-4428-94c7-df75579e2a7e",
   "metadata": {},
   "outputs": [],
   "source": [
    "Importacion de librerias"
   ]
  },
  {
   "cell_type": "code",
   "execution_count": null,
   "id": "3379bd9b-ede4-40ef-b420-cc238a3f5471",
   "metadata": {},
   "outputs": [],
   "source": [
    "import tensorflow as tf\n",
    "from tensorflow import keras\n",
    "from sklearn.utils import class_weight\n",
    "import numpy as np"
   ]
  },
  {
   "cell_type": "markdown",
   "id": "f173bdd5-1e29-429e-9bef-53590f8a3885",
   "metadata": {},
   "source": [
    "1) Calcular Pesos para Clases Desbalanceadas \n",
    "   Este paso sigue siendo crucial para que el modelo preste atención a los pocos casos de granizo."
   ]
  },
  {
   "cell_type": "code",
   "execution_count": null,
   "id": "fcf43e69-202e-4df3-a987-23d2ddfd1341",
   "metadata": {},
   "outputs": [],
   "source": [
    "class_weights = class_weight.compute_class_weight(\n",
    "    'balanced',\n",
    "    classes=np.unique(y_train),\n",
    "    y=y_train\n",
    ")\n",
    "class_weights_dict = dict(enumerate(class_weights))\n",
    "print(f\"Pesos de clase calculados: {class_weights_dict}\")\n"
   ]
  },
  {
   "cell_type": "markdown",
   "id": "6040cf01-9791-4616-b6e0-04370dcf7ebd",
   "metadata": {
    "jp-MarkdownHeadingCollapsed": true
   },
   "source": [
    "2) Definir la Arquitectura del Modelo Avanzado\n",
    "   Haremos la red un poco más \"profunda\" y \"ancha\" que nuestro modelo base, para que tenga más capacidad de aprender de las nuevas y complejas características."
   ]
  },
  {
   "cell_type": "code",
   "execution_count": null,
   "id": "65b7a3dd-6eae-4898-a175-21e2f51e0eb0",
   "metadata": {},
   "outputs": [],
   "source": [
    "modelo_avanzado = keras.Sequential([\n",
    "    # Capa de entrada (el shape ahora es mayor por las nuevas features)\n",
    "    keras.layers.Dense(32, activation='relu', input_shape=[X_train_scaled.shape[1]]),\n",
    "    # Dos capas ocultas\n",
    "    keras.layers.Dense(16, activation='relu'),\n",
    "    keras.layers.Dense(8, activation='relu'),\n",
    "    # Capa de salida para la probabilidad\n",
    "    keras.layers.Dense(1, activation='sigmoid')\n",
    "])"
   ]
  },
  {
   "cell_type": "markdown",
   "id": "3ca0a8d1-b379-4f69-8b02-cd5638e4c407",
   "metadata": {},
   "source": [
    "3) Compilar el Modelo "
   ]
  },
  {
   "cell_type": "code",
   "execution_count": null,
   "id": "d218f4b7-5319-46a3-8aa9-6d00e75d8b01",
   "metadata": {},
   "outputs": [],
   "source": [
    "modelo_avanzado.compile(\n",
    "    optimizer='adam',\n",
    "    loss='binary_crossentropy',\n",
    "    metrics=['accuracy', tf.keras.metrics.Precision(), tf.keras.metrics.Recall()]\n",
    ")\n",
    "\n",
    "print(\"\\nModelo Avanzado construido y compilado. Resumen:\")\n",
    "modelo_avanzado.summary()"
   ]
  },
  {
   "cell_type": "markdown",
   "id": "3d34d9cc-ae72-460b-9fd8-a5f805f3db03",
   "metadata": {
    "jp-MarkdownHeadingCollapsed": true
   },
   "source": [
    "4) Entrenar el Modelo\n",
    "   Este es el paso que consume más recursos y se beneficia de la GPU de Colab.\n"
   ]
  },
  {
   "cell_type": "code",
   "execution_count": null,
   "id": "f2d1052e-2509-4702-aa6a-e4328493e50c",
   "metadata": {},
   "outputs": [],
   "source": [
    "print(\"\\nIniciando entrenamiento del Modelo Avanzado...\")\n",
    "\n",
    "historial_avanzado = modelo_avanzado.fit(\n",
    "    X_train_scaled,\n",
    "    y_train,\n",
    "    epochs=50, # Aumentamos un poco las épocas de entrenamiento\n",
    "    validation_data=(X_test_scaled, y_test),\n",
    "    class_weight=class_weights_dict,\n",
    "    verbose=1\n",
    ")\n",
    "\n",
    "print(\"\\n✅ Entrenamiento finalizado.\")"
   ]
  },
  {
   "cell_type": "markdown",
   "id": "018ee1d1-4ded-4568-9df6-69d95e1f5ad4",
   "metadata": {},
   "source": [
    "## Análisis de resultados"
   ]
  },
  {
   "cell_type": "markdown",
   "id": "3ce140c5-c576-4a3f-9024-3850b951367b",
   "metadata": {
    "jp-MarkdownHeadingCollapsed": true
   },
   "source": [
    "## Conclusiones"
   ]
  },
  {
   "cell_type": "markdown",
   "id": "79cf566e-2544-46ac-b85f-17571e8662d3",
   "metadata": {},
   "source": [
    "Por razones de eficiencia y entrenamiento esta notebook es simplemente de demostración, las últimas celdas de entrenamientos son procesadas en Google Colab.\n",
    "Igualmente, para seguir con la investigación se adjuntará el link."
   ]
  },
  {
   "cell_type": "markdown",
   "id": "2bed7a1d-ff02-45c1-ae0e-9b206e22882e",
   "metadata": {},
   "source": [
    "Link:\n"
   ]
  }
 ],
 "metadata": {
  "kernelspec": {
   "display_name": "Python 3 (ipykernel)",
   "language": "python",
   "name": "python3"
  },
  "language_info": {
   "codemirror_mode": {
    "name": "ipython",
    "version": 3
   },
   "file_extension": ".py",
   "mimetype": "text/x-python",
   "name": "python",
   "nbconvert_exporter": "python",
   "pygments_lexer": "ipython3",
   "version": "3.12.10"
  }
 },
 "nbformat": 4,
 "nbformat_minor": 5
}
