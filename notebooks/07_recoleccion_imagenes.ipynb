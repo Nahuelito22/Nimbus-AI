{
 "cells": [
  {
   "cell_type": "markdown",
   "id": "3ac41386-74bc-40ab-8c3c-483384d548e6",
   "metadata": {},
   "source": [
    "# Recolección de imágenes satelitales"
   ]
  },
  {
   "cell_type": "markdown",
   "id": "4623dbf5-4991-42ee-b3e6-c97df55f640a",
   "metadata": {},
   "source": [
    "Importación de librerías necesarias"
   ]
  },
  {
   "cell_type": "code",
   "execution_count": 7,
   "id": "b1e79f47-efc3-448b-9ae2-a9e51755bb17",
   "metadata": {},
   "outputs": [],
   "source": [
    "import pandas as pd\n",
    "import boto3\n",
    "from botocore import UNSIGNED\n",
    "from botocore.config import Config\n",
    "import os\n",
    "import re"
   ]
  },
  {
   "cell_type": "markdown",
   "id": "7c60d861-8870-4bec-85e4-554155484136",
   "metadata": {},
   "source": [
    "Cargar csv "
   ]
  },
  {
   "cell_type": "code",
   "execution_count": 5,
   "id": "9344e512-e885-439b-acff-e76c3c0f9bb3",
   "metadata": {},
   "outputs": [
    {
     "name": "stdout",
     "output_type": "stream",
     "text": [
      "✅ Archivo de eventos con horas cargado exitosamente.\n"
     ]
    },
    {
     "data": {
      "text/html": [
       "<div>\n",
       "<style scoped>\n",
       "    .dataframe tbody tr th:only-of-type {\n",
       "        vertical-align: middle;\n",
       "    }\n",
       "\n",
       "    .dataframe tbody tr th {\n",
       "        vertical-align: top;\n",
       "    }\n",
       "\n",
       "    .dataframe thead th {\n",
       "        text-align: right;\n",
       "    }\n",
       "</style>\n",
       "<table border=\"1\" class=\"dataframe\">\n",
       "  <thead>\n",
       "    <tr style=\"text-align: right;\">\n",
       "      <th></th>\n",
       "      <th>fecha</th>\n",
       "      <th>ubicacion</th>\n",
       "      <th>fuente</th>\n",
       "      <th>estacion_asignada</th>\n",
       "      <th>hora_aprox</th>\n",
       "    </tr>\n",
       "  </thead>\n",
       "  <tbody>\n",
       "    <tr>\n",
       "      <th>0</th>\n",
       "      <td>2000-01-01</td>\n",
       "      <td>Aeropuerto El Plumerillo (Norte de Mendoza)</td>\n",
       "      <td>researchgate.net</td>\n",
       "      <td>MENDOZA AERO, AR</td>\n",
       "      <td>22:45 - 23:20 UTC</td>\n",
       "    </tr>\n",
       "    <tr>\n",
       "      <th>1</th>\n",
       "      <td>2002-03-08</td>\n",
       "      <td>Puente de Hierro (Guaymallén)</td>\n",
       "      <td>argentina.gob.ar</td>\n",
       "      <td>MENDOZA AERO, AR</td>\n",
       "      <td>NaN</td>\n",
       "    </tr>\n",
       "    <tr>\n",
       "      <th>2</th>\n",
       "      <td>2005-02-14</td>\n",
       "      <td>Luján de Cuyo</td>\n",
       "      <td>eluniverso.com</td>\n",
       "      <td>MENDOZA AERO, AR</td>\n",
       "      <td>Tarde</td>\n",
       "    </tr>\n",
       "    <tr>\n",
       "      <th>3</th>\n",
       "      <td>2006-02-12</td>\n",
       "      <td>Luján de Cuyo (Perdriel, Vistalba)</td>\n",
       "      <td>Diario Los Andes</td>\n",
       "      <td>MENDOZA AERO, AR</td>\n",
       "      <td>NaN</td>\n",
       "    </tr>\n",
       "    <tr>\n",
       "      <th>4</th>\n",
       "      <td>2008-01-31</td>\n",
       "      <td>Ciudad de Mendoza</td>\n",
       "      <td>mdzol.com</td>\n",
       "      <td>MENDOZA AERO, AR</td>\n",
       "      <td>20:20 - 20:37 hs</td>\n",
       "    </tr>\n",
       "  </tbody>\n",
       "</table>\n",
       "</div>"
      ],
      "text/plain": [
       "       fecha                                    ubicacion            fuente  \\\n",
       "0 2000-01-01  Aeropuerto El Plumerillo (Norte de Mendoza)  researchgate.net   \n",
       "1 2002-03-08                Puente de Hierro (Guaymallén)  argentina.gob.ar   \n",
       "2 2005-02-14                                Luján de Cuyo    eluniverso.com   \n",
       "3 2006-02-12           Luján de Cuyo (Perdriel, Vistalba)  Diario Los Andes   \n",
       "4 2008-01-31                            Ciudad de Mendoza         mdzol.com   \n",
       "\n",
       "  estacion_asignada         hora_aprox  \n",
       "0  MENDOZA AERO, AR  22:45 - 23:20 UTC  \n",
       "1  MENDOZA AERO, AR                NaN  \n",
       "2  MENDOZA AERO, AR              Tarde  \n",
       "3  MENDOZA AERO, AR                NaN  \n",
       "4  MENDOZA AERO, AR   20:20 - 20:37 hs  "
      ]
     },
     "metadata": {},
     "output_type": "display_data"
    }
   ],
   "source": [
    "# Cargamos el archivo con las fechas y horas\n",
    "ruta_eventos = \"../data/raw/evento_granizo_limpio_hora.csv\"\n",
    "df_eventos = pd.read_csv(ruta_eventos, parse_dates=['fecha'])\n",
    "\n",
    "print(\"✅ Archivo de eventos con horas cargado exitosamente.\")\n",
    "display(df_eventos.head())"
   ]
  },
  {
   "cell_type": "markdown",
   "id": "fd210758-29bc-4b58-83bc-386c83233307",
   "metadata": {},
   "source": [
    "Verificamos los horarios únicos del dataset"
   ]
  },
  {
   "cell_type": "code",
   "execution_count": 6,
   "id": "1c70e72d-26dc-48a6-87e2-9066ff76bb66",
   "metadata": {},
   "outputs": [
    {
     "name": "stdout",
     "output_type": "stream",
     "text": [
      "--- Horarios Únicos Encontrados en tu CSV ---\n",
      "['22:45 - 23:20 UTC' nan 'Tarde' '20:20 - 20:37 hs'\n",
      " 'Cerca de las 14:00 hs' '18:20 hs' 'Mediodía' 'Tarde (aprox. 18:00 hs)'\n",
      " 'Tarde (después de las 16:00 hs)' '08:30 hs' 'Noche (21:00 - 01:00 hs)'\n",
      " 'Noche' 'Tarde (desde las 13:00 hs)' 'Madrugada'\n",
      " 'Tarde-Noche (15:00 - 19:00 hs)' 'Tarde-Noche' '17:15 hs'\n",
      " 'Tarde-Noche (aprox. 20:00 hs)' 'Tarde (16:00 hs)' '16:00 - 21:30 hs'\n",
      " 'Tarde (desde las 16:00 hs)' 'Tarde (desde las 16:45 hs)'\n",
      " 'Noche (aprox. 23:00 hs)' 'Madrugada (aprox. 01:30 hs)']\n"
     ]
    }
   ],
   "source": [
    "# Obtenemos y mostramos todos los valores únicos de la columna 'hora_aprox'\n",
    "valores_unicos_hora = df_eventos['hora_aprox'].unique()\n",
    "\n",
    "print(\"--- Horarios Únicos Encontrados en tu CSV ---\")\n",
    "print(valores_unicos_hora)"
   ]
  },
  {
   "cell_type": "code",
   "execution_count": null,
   "id": "b9d74e60-4e7a-4ded-b747-cdd52d76f384",
   "metadata": {},
   "outputs": [],
   "source": [
    "Script para obtener imagenes"
   ]
  },
  {
   "cell_type": "markdown",
   "id": "d4b12e01-1ba1-4cb8-a766-4b6df43d91e1",
   "metadata": {},
   "source": [
    "1) La función traductora de horas"
   ]
  },
  {
   "cell_type": "code",
   "execution_count": 8,
   "id": "054597a8-84b7-4067-a708-234f4bbf4044",
   "metadata": {},
   "outputs": [],
   "source": [
    "def parse_hora_a_utc(texto_hora):\n",
    "    if pd.isna(texto_hora):\n",
    "        return None # Si no hay dato, devolvemos Nada\n",
    "    \n",
    "    texto_hora = str(texto_hora).lower()\n",
    "    \n",
    "    # Caso 1: La hora ya está en UTC\n",
    "    if 'utc' in texto_hora:\n",
    "        numeros = re.findall(r'\\d+', texto_hora)\n",
    "        if numeros:\n",
    "            return int(numeros[0]) # Devuelve la primera hora que encuentre\n",
    "            \n",
    "    # Caso 2: Horas de texto\n",
    "    if 'tarde' in texto_hora:\n",
    "        return 20 # 17:00 hs local -> 20:00 UTC\n",
    "    if 'noche' in texto_hora:\n",
    "        return 1 # 22:00 hs local -> 01:00 UTC del día siguiente (simplificado)\n",
    "    if 'madrugada' in texto_hora:\n",
    "        return 5 # 02:00 hs local -> 05:00 UTC\n",
    "    if 'mediodía' in texto_hora or 'mediodia' in texto_hora:\n",
    "        return 15 # 12:00 hs local -> 15:00 UTC\n",
    "        \n",
    "    # Caso 3: Extraer el primer número de la cadena\n",
    "    numeros = re.findall(r'\\d+', texto_hora)\n",
    "    if numeros:\n",
    "        hora_local = int(numeros[0])\n",
    "        # Convertimos a UTC y manejamos el cambio de día\n",
    "        hora_utc = (hora_local + 3) % 24\n",
    "        return hora_utc\n",
    "        \n",
    "    return None # Si no se pudo interpretar, devolvemos Nada\n"
   ]
  },
  {
   "cell_type": "markdown",
   "id": "fecfa40d-5221-476a-bef6-fe2f43af9e4b",
   "metadata": {},
   "source": [
    "2) Configuración para la descarga"
   ]
  },
  {
   "cell_type": "code",
   "execution_count": 9,
   "id": "e076d09e-475b-42e8-8026-5997eecf5a05",
   "metadata": {},
   "outputs": [
    {
     "name": "stdout",
     "output_type": "stream",
     "text": [
      "Iniciando la descarga de imágenes satelitales...\n"
     ]
    }
   ],
   "source": [
    "s3 = boto3.client('s3', config=Config(signature_version=UNSIGNED))\n",
    "bucket_name = 'noaa-goes16'\n",
    "ruta_guardado = \"../data/raw/imagenes_satelitales/\"\n",
    "os.makedirs(ruta_guardado, exist_ok=True)\n",
    "print(\"Iniciando la descarga de imágenes satelitales...\")"
   ]
  },
  {
   "cell_type": "markdown",
   "id": "d48c4263-cc62-4e1c-a0d8-b609283cfe64",
   "metadata": {},
   "source": [
    "3) Bucle principal "
   ]
  },
  {
   "cell_type": "code",
   "execution_count": 10,
   "id": "d9d3c927-cce1-4ff0-ac5f-c540f636fd5e",
   "metadata": {},
   "outputs": [
    {
     "name": "stdout",
     "output_type": "stream",
     "text": [
      "-> No se encontraron imágenes para 2000-01-01 a las 22:00 UTC.\n",
      "-> No se encontraron imágenes para 2005-02-14 a las 20:00 UTC.\n",
      "-> No se encontraron imágenes para 2008-01-31 a las 23:00 UTC.\n",
      "-> No se encontraron imágenes para 2008-11-26 a las 17:00 UTC.\n",
      "-> No se encontraron imágenes para 2008-12-18 a las 21:00 UTC.\n",
      "-> No se encontraron imágenes para 2010-09-28 a las 15:00 UTC.\n",
      "-> No se encontraron imágenes para 2011-02-23 a las 20:00 UTC.\n",
      "-> No se encontraron imágenes para 2011-11-20 a las 20:00 UTC.\n",
      "-> No se encontraron imágenes para 2012-10-29 a las 11:00 UTC.\n",
      "-> No se encontraron imágenes para 2013-02-09 a las 01:00 UTC.\n",
      "-> No se encontraron imágenes para 2014-10-26 a las 01:00 UTC.\n",
      "-> No se encontraron imágenes para 2014-12-09 a las 20:00 UTC.\n",
      "-> No se encontraron imágenes para 2014-12-16 a las 05:00 UTC.\n",
      "-> No se encontraron imágenes para 2015-09-25 a las 20:00 UTC.\n",
      "-> No se encontraron imágenes para 2016-03-01 a las 01:00 UTC.\n",
      "-> Descargando imagen para 2017-04-05 a las 20h UTC...\n",
      "✅ Guardado como: ../data/raw/imagenes_satelitales/2017-04-05_2000_UTC.nc\n",
      "-> Descargando imagen para 2020-11-12 a las 20h UTC...\n",
      "✅ Guardado como: ../data/raw/imagenes_satelitales/2020-11-12_2000_UTC.nc\n",
      "-> Descargando imagen para 2022-02-23 a las 01h UTC...\n",
      "✅ Guardado como: ../data/raw/imagenes_satelitales/2022-02-23_0100_UTC.nc\n",
      "-> Descargando imagen para 2024-02-28 a las 01h UTC...\n",
      "✅ Guardado como: ../data/raw/imagenes_satelitales/2024-02-28_0100_UTC.nc\n",
      "-> Descargando imagen para 2017-03-26 a las 20h UTC...\n",
      "✅ Guardado como: ../data/raw/imagenes_satelitales/2017-03-26_2000_UTC.nc\n",
      "-> Descargando imagen para 2018-11-25 a las 01h UTC...\n",
      "✅ Guardado como: ../data/raw/imagenes_satelitales/2018-11-25_0100_UTC.nc\n",
      "-> Descargando imagen para 2018-12-19 a las 05h UTC...\n",
      "✅ Guardado como: ../data/raw/imagenes_satelitales/2018-12-19_0500_UTC.nc\n",
      "-> Descargando imagen para 2021-12-16 a las 20h UTC...\n",
      "✅ Guardado como: ../data/raw/imagenes_satelitales/2021-12-16_2000_UTC.nc\n",
      "-> Descargando imagen para 2023-03-08 a las 01h UTC...\n",
      "✅ Guardado como: ../data/raw/imagenes_satelitales/2023-03-08_0100_UTC.nc\n",
      "-> Descargando imagen para 2023-11-28 a las 20h UTC...\n",
      "✅ Guardado como: ../data/raw/imagenes_satelitales/2023-11-28_2000_UTC.nc\n",
      "-> Descargando imagen para 2024-01-25 a las 01h UTC...\n",
      "✅ Guardado como: ../data/raw/imagenes_satelitales/2024-01-25_0100_UTC.nc\n",
      "-> No se encontraron imágenes para 2007-01-27 a las 20:00 UTC.\n",
      "-> No se encontraron imágenes para 2010-02-12 a las 20:00 UTC.\n",
      "-> No se encontraron imágenes para 2015-11-23 a las 20:00 UTC.\n",
      "-> Descargando imagen para 2017-03-25 a las 20h UTC...\n",
      "✅ Guardado como: ../data/raw/imagenes_satelitales/2017-03-25_2000_UTC.nc\n",
      "-> Descargando imagen para 2018-11-04 a las 20h UTC...\n",
      "✅ Guardado como: ../data/raw/imagenes_satelitales/2018-11-04_2000_UTC.nc\n",
      "-> Descargando imagen para 2018-11-29 a las 19h UTC...\n",
      "✅ Guardado como: ../data/raw/imagenes_satelitales/2018-11-29_1900_UTC.nc\n",
      "-> Descargando imagen para 2018-12-29 a las 20h UTC...\n",
      "✅ Guardado como: ../data/raw/imagenes_satelitales/2018-12-29_2000_UTC.nc\n",
      "-> Descargando imagen para 2019-01-01 a las 20h UTC...\n",
      "✅ Guardado como: ../data/raw/imagenes_satelitales/2019-01-01_2000_UTC.nc\n",
      "-> Descargando imagen para 2019-03-31 a las 20h UTC...\n",
      "✅ Guardado como: ../data/raw/imagenes_satelitales/2019-03-31_2000_UTC.nc\n",
      "-> Descargando imagen para 2020-02-08 a las 01h UTC...\n",
      "✅ Guardado como: ../data/raw/imagenes_satelitales/2020-02-08_0100_UTC.nc\n",
      "-> Descargando imagen para 2021-02-17 a las 20h UTC...\n",
      "✅ Guardado como: ../data/raw/imagenes_satelitales/2021-02-17_2000_UTC.nc\n",
      "-> Descargando imagen para 2021-04-20 a las 20h UTC...\n",
      "✅ Guardado como: ../data/raw/imagenes_satelitales/2021-04-20_2000_UTC.nc\n",
      "-> Descargando imagen para 2024-01-11 a las 20h UTC...\n",
      "✅ Guardado como: ../data/raw/imagenes_satelitales/2024-01-11_2000_UTC.nc\n",
      "-> No se encontraron imágenes para 2017-02-02 a las 20:00 UTC.\n",
      "-> Descargando imagen para 2017-03-27 a las 20h UTC...\n",
      "✅ Guardado como: ../data/raw/imagenes_satelitales/2017-03-27_2000_UTC.nc\n",
      "-> Descargando imagen para 2019-03-16 a las 15h UTC...\n",
      "✅ Guardado como: ../data/raw/imagenes_satelitales/2019-03-16_1500_UTC.nc\n",
      "-> No se encontraron imágenes para 2008-12-08 a las 05:00 UTC.\n",
      "\n",
      "--- Proceso de descarga finalizado ---\n"
     ]
    }
   ],
   "source": [
    "for index, evento in df_eventos.iterrows():\n",
    "    # Usamos nuestra nueva función para obtener la hora UTC\n",
    "    hora_utc = parse_hora_a_utc(evento['hora_aprox'])\n",
    "    \n",
    "    # Solo procedemos si obtuvimos una hora válida\n",
    "    if hora_utc is not None:\n",
    "        try:\n",
    "            fecha = evento['fecha']\n",
    "            año = fecha.year\n",
    "            dia_del_año = fecha.dayofyear\n",
    "            \n",
    "            prefix = f\"ABI-L2-CMIPF/{año}/{dia_del_año:03d}/{hora_utc:02d}/\"\n",
    "            response = s3.list_objects_v2(Bucket=bucket_name, Prefix=prefix)\n",
    "            \n",
    "            if 'Contents' in response:\n",
    "                key_archivo = response['Contents'][0]['Key']\n",
    "                nombre_archivo_local = f\"{ruta_guardado}{fecha.strftime('%Y-%m-%d')}_{hora_utc:02d}00_UTC.nc\"\n",
    "                \n",
    "                if not os.path.exists(nombre_archivo_local):\n",
    "                    print(f\"-> Descargando imagen para {fecha.strftime('%Y-%m-%d')} a las {hora_utc:02d}h UTC...\")\n",
    "                    s3.download_file(bucket_name, key_archivo, nombre_archivo_local)\n",
    "                    print(f\"✅ Guardado como: {nombre_archivo_local}\")\n",
    "                else:\n",
    "                    print(f\"-> Archivo ya existe: {nombre_archivo_local}. Saltando.\")\n",
    "            else:\n",
    "                print(f\"-> No se encontraron imágenes para {fecha.strftime('%Y-%m-%d')} a las {hora_utc:02d}:00 UTC.\")\n",
    "        except Exception as e:\n",
    "            print(f\"-> ERROR procesando el evento del {evento['fecha'].strftime('%Y-%m-%d')}: {e}\")\n",
    "\n",
    "print(\"\\n--- Proceso de descarga finalizado ---\")"
   ]
  },
  {
   "cell_type": "code",
   "execution_count": null,
   "id": "29b0d402-8709-479f-a2b8-3080a74bfc31",
   "metadata": {},
   "outputs": [],
   "source": []
  }
 ],
 "metadata": {
  "kernelspec": {
   "display_name": "Python 3 (ipykernel)",
   "language": "python",
   "name": "python3"
  },
  "language_info": {
   "codemirror_mode": {
    "name": "ipython",
    "version": 3
   },
   "file_extension": ".py",
   "mimetype": "text/x-python",
   "name": "python",
   "nbconvert_exporter": "python",
   "pygments_lexer": "ipython3",
   "version": "3.12.10"
  }
 },
 "nbformat": 4,
 "nbformat_minor": 5
}
